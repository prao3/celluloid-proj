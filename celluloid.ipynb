{
 "cells": [
  {
   "cell_type": "markdown",
   "id": "886d24c5-346c-4717-a635-0e554177eca3",
   "metadata": {},
   "source": [
    "<b><font size=20, color='#A020F0'>Celluloid</font></b>"
   ]
  },
  {
   "cell_type": "markdown",
   "id": "7e44a7da-72ff-4387-854b-b0b39ee52561",
   "metadata": {},
   "source": [
    "Matt Oehler and Prem Rao<br>\n",
    "10/23/2024"
   ]
  },
  {
   "cell_type": "markdown",
   "id": "98b1b91e-5c49-454b-84c2-822f4419c513",
   "metadata": {},
   "source": [
    "#### <span style=\"color:green\">Learning Goals</span>\n",
    "By the end of this notebook you will\n",
    "1. Understand how ```celluloid``` works\n",
    "2. Create fun and interesting animations!"
   ]
  },
  {
   "cell_type": "markdown",
   "id": "912c5320-74c9-4929-b7aa-168379856f9f",
   "metadata": {},
   "source": [
    "#### Resources\n",
    "Documentation<br>\n",
    "[celluloid](https://pypi.org/project/celluloid/)<br>\n",
    "[matplotlib ArtistAnimation](https://matplotlib.org/stable/api/_as_gen/matplotlib.animation.ArtistAnimation.html)"
   ]
  },
  {
   "cell_type": "markdown",
   "id": "97a0a4e8-df95-4089-8329-d13de018a6f0",
   "metadata": {},
   "source": [
    "# About Celluloid"
   ]
  },
  {
   "cell_type": "markdown",
   "id": "4f5df37e-b72d-41f3-af7c-a6bcdcfcf10e",
   "metadata": {},
   "source": [
    "```celluloid``` is an extremely small module, written in 50 lines of code! It is designed to make creating animations using ```matplotlib``` quick and easy, so all the complexity of your code is contained within your plotting. The ```Camera``` object is the only object within ```celluloid```, so we will just import it directly:"
   ]
  },
  {
   "cell_type": "code",
   "execution_count": 4,
   "id": "71761f1f-8daf-45a9-acbc-0e73ee1c9d3b",
   "metadata": {},
   "outputs": [],
   "source": [
    "# Importing celluloid\n",
    "from celluloid import Camera"
   ]
  },
  {
   "cell_type": "markdown",
   "id": "e068c063-0559-43d3-8f39-9239b34b4eb8",
   "metadata": {},
   "source": [
    "Also, importing some other useful libraries:"
   ]
  },
  {
   "cell_type": "code",
   "execution_count": 36,
   "id": "5c8bd426-5ee2-469d-bfde-5a9539bde225",
   "metadata": {},
   "outputs": [],
   "source": [
    "# For plotting\n",
    "import matplotlib.pyplot as plt\n",
    "\n",
    "# Always use numpy\n",
    "import numpy as np\n",
    "\n",
    "# For showing animation in the notebook\n",
    "from IPython.display import HTML\n",
    "\n",
    "# Other libraries\n",
    "# LIBRARIES FOR MATT! (DELETE THIS B4 PRESENTATION)"
   ]
  },
  {
   "cell_type": "markdown",
   "id": "a33f319e-de8d-4edf-8273-c7b3dfacf0c5",
   "metadata": {},
   "source": [
    "### 1. Setting up the Camera"
   ]
  },
  {
   "cell_type": "markdown",
   "id": "7d4e4900-73f4-4ab5-8e9a-aa60b98564c2",
   "metadata": {},
   "source": [
    "The 'camera' points at a figure we give it. The camera can take 'pictures', which will become the frames of our animation! To create a camera, we first need to create a figure:"
   ]
  },
  {
   "cell_type": "code",
   "execution_count": 42,
   "id": "cee49eb7-c7db-4df4-85ea-dcafbf0437e4",
   "metadata": {},
   "outputs": [
    {
     "data": {
      "text/plain": [
       "<Figure size 640x480 with 0 Axes>"
      ]
     },
     "metadata": {},
     "output_type": "display_data"
    }
   ],
   "source": [
    "# Creating a figure\n",
    "fig = plt.figure()\n",
    "\n",
    "# Giving figure to our camera\n",
    "camera = Camera(fig)"
   ]
  },
  {
   "cell_type": "markdown",
   "id": "b9e8f6f4-e4bd-43fa-81e2-08a3b18d1b5a",
   "metadata": {},
   "source": [
    "### 2. Capturing a frame"
   ]
  },
  {
   "cell_type": "markdown",
   "id": "faf6e882-a891-46e7-915f-1a2eb3511802",
   "metadata": {},
   "source": [
    "Now we need to plot something! We can capture a frame of our animation using the ```snap``` method. Building up a series of frames will create our animation!<br>\n",
    "For this example, let's animate a point, moving up and down:"
   ]
  },
  {
   "cell_type": "code",
   "execution_count": 43,
   "id": "0fb0f51e-a178-4b05-9bc4-1d6a09d57528",
   "metadata": {},
   "outputs": [],
   "source": [
    "# First, creating an axis to plot on\n",
    "ax = fig.add_subplot(111)"
   ]
  },
  {
   "cell_type": "code",
   "execution_count": 44,
   "id": "cae84a9d-4764-481a-a7e1-e17332c91494",
   "metadata": {},
   "outputs": [],
   "source": [
    "# The number of frames our animation will have\n",
    "frames = 30\n",
    "\n",
    "# Creating a range of time values\n",
    "times = np.linspace(0, 4*np.pi, frames)\n",
    "\n",
    "# For each t in times, plot a point at sin(t) and take a picture\n",
    "for t in times:\n",
    "    # Plotting\n",
    "    ax.scatter(0, np.sin(t), c='k', s=100)\n",
    "    # Capturing image!\n",
    "    camera.snap()"
   ]
  },
  {
   "cell_type": "markdown",
   "id": "f1a2cddc-da2c-45eb-935c-218bc58dc6eb",
   "metadata": {},
   "source": [
    "### 3. Animating"
   ]
  },
  {
   "cell_type": "markdown",
   "id": "422d997b-9a18-4fc2-b416-6fad223a3784",
   "metadata": {},
   "source": [
    "To animate, we just need to call the ```animate``` function. This returns an ```ArtistAnimation``` object from ```pyplot```! \n",
    "\n",
    "We can save the animation using the ```save``` method from ```ArtistAnimation```, or we can display the animation in a jupyter notebook using ```to_html5_video``` and ```IPython.display```'s ```HTML``` method, which we imported earlier:"
   ]
  },
  {
   "cell_type": "code",
   "execution_count": 45,
   "id": "01929d88-9d52-4f7c-ba8b-3dcc2f8081e0",
   "metadata": {},
   "outputs": [
    {
     "data": {
      "text/html": [
       "<video width=\"640\" height=\"480\" controls autoplay loop>\n",
       "  <source type=\"video/mp4\" src=\"data:video/mp4;base64,AAAAIGZ0eXBNNFYgAAACAE00ViBpc29taXNvMmF2YzEAAAAIZnJlZQAAIoJtZGF0AAACrgYF//+q\n",
       "3EXpvebZSLeWLNgg2SPu73gyNjQgLSBjb3JlIDE2NCByMzA5NSBiYWVlNDAwIC0gSC4yNjQvTVBF\n",
       "Ry00IEFWQyBjb2RlYyAtIENvcHlsZWZ0IDIwMDMtMjAyMiAtIGh0dHA6Ly93d3cudmlkZW9sYW4u\n",
       "b3JnL3gyNjQuaHRtbCAtIG9wdGlvbnM6IGNhYmFjPTEgcmVmPTMgZGVibG9jaz0xOjA6MCBhbmFs\n",
       "eXNlPTB4MzoweDExMyBtZT1oZXggc3VibWU9NyBwc3k9MSBwc3lfcmQ9MS4wMDowLjAwIG1peGVk\n",
       "X3JlZj0xIG1lX3JhbmdlPTE2IGNocm9tYV9tZT0xIHRyZWxsaXM9MSA4eDhkY3Q9MSBjcW09MCBk\n",
       "ZWFkem9uZT0yMSwxMSBmYXN0X3Bza2lwPTEgY2hyb21hX3FwX29mZnNldD0tMiB0aHJlYWRzPTEy\n",
       "IGxvb2thaGVhZF90aHJlYWRzPTIgc2xpY2VkX3RocmVhZHM9MCBucj0wIGRlY2ltYXRlPTEgaW50\n",
       "ZXJsYWNlZD0wIGJsdXJheV9jb21wYXQ9MCBjb25zdHJhaW5lZF9pbnRyYT0wIGJmcmFtZXM9MyBi\n",
       "X3B5cmFtaWQ9MiBiX2FkYXB0PTEgYl9iaWFzPTAgZGlyZWN0PTEgd2VpZ2h0Yj0xIG9wZW5fZ29w\n",
       "PTAgd2VpZ2h0cD0yIGtleWludD0yNTAga2V5aW50X21pbj01IHNjZW5lY3V0PTQwIGludHJhX3Jl\n",
       "ZnJlc2g9MCByY19sb29rYWhlYWQ9NDAgcmM9Y3JmIG1idHJlZT0xIGNyZj0yMy4wIHFjb21wPTAu\n",
       "NjAgcXBtaW49MCBxcG1heD02OSBxcHN0ZXA9NCBpcF9yYXRpbz0xLjQwIGFxPTE6MS4wMACAAAAS\n",
       "hGWIhAAT//73sY+BTcgADZc6inof4RWx9JBRerHZoGTqAAADAAADAAADAigXteKQMJledeAAABkw\n",
       "A10I/wZ8n5sHdK+Zpu5OnjV+7BHf1AFh/WQKjGy0MnVu45iA3tsUf+nFUeV6o6Ob3QU3vmUZDzcL\n",
       "JWCvWJWzuGHHPvWlhpzknp3gvWh2PTiQFxCt+p4EJD8rLVGVeh2hNa8WIuUJ9qjr+xSubV3ntK3r\n",
       "4OzE/yVJFfsEBwzZg34WYzlHtTTNBXcCqkEnkAj7OkzyTKoNxN0GUCDiV3XsWvrnnYhmrg4qXsdD\n",
       "OeHdHk1XAThF7jHehsJCxmoq/39X1oiWKvm7ZJpEGIlupN0YcbUF42ruFztuQSoC4OEZJVct8jsL\n",
       "W4ZNheoI8mO+xJcDjLQlMjahL+59kzjM0UIlx+GoIpBxLMQHlHo9LRCeveFjSHwzcRT8fmqj6ZXn\n",
       "yMjuO/EwRnXR+XQd7Vd7Tj7wCX/1W8UgbTHM/z5DSqY1Z9X6sp1kpQzcmHg9V04D2x/Z/J0v2w25\n",
       "RMVuufuyS0BNBxXQsO41G0teEDs8CB62N5wBU1hsjCooOBM2vWowjqOQAwFyUBUgahyVWtI+HCHk\n",
       "WydMCpGZPV6oIw3ksiyscpuT3jxleJHtEX1vJSfw8BhsNou2a0pjFp8GMLlatm7cUtaSAmvoVxKK\n",
       "PmwYu10qYUeNEUNQ+9bSuaN1fDtlROwH01d4DgZAhLyU5qMBt6zxfsQBFpeK2LZ62hStRryt6O1q\n",
       "7n7i/+//79UGlxDLrknXmClJff/728gpog7nUcUpFM/Xy6JFNyiIBcxDC9W58Wb5k+LtSbgx9Wjx\n",
       "qg+HaLuq2RztMj7o1lBsNpOjxlWMtaEB5n4tWXMus120nzAfeg2FT7b5T1wWqBYEq/vrhZoV6YuZ\n",
       "R+wDRZdCdDk5yw73Lan/sg21SJBgMg9mSPvpxBcDNj9UcnvLRO6bjScNzblKl1nSeIriXiFAfxhu\n",
       "ibCrnlW3N4QrNGFtgm7zxKVlos9A6MEmy1O/8AIqL8C9fMIQeRzXeMZAFjzlQ9cUpw+d2y4sERZn\n",
       "axZL7227V1owAKnxhB9RHKA/8eZNO7uXcY+HMuBB62lOR2A56YRIX2qD3HjG0YV7zNe5fVjvDyI+\n",
       "BZlzJvVcsl8/ILxM7GDUMPjuQVFS7s7PSQaQoiYSXmmRPSE6edHDNhmt3HtmXwGJQHutF3EIlyRK\n",
       "Ne21XXFlHOJOcTXzZdpGlD+V3Gy8gy8PPbPuDERGauazgTbwWmEADCQGEV1SVdBfcB+JyrSPLP8g\n",
       "fSwVTviEe45nyX/3KtbkOd0tWDuS/wav74+vfvjOex6dW/z6iLnWOKD98K7SoWhhFOLD2asT9IMd\n",
       "a8/c+Bk23reSAyxeX11kvfF/wXRgBknBjFDL/5NJUIBhQkMkrChgJ0Vt15umZhgjsu6rpshzBZ8Y\n",
       "DWNkY2Xii77g5OGI769JUVfDDsEAOCCzduKWtJATYLaeB5NDh1G57WQniP/7MoOa5osfnGroRKvh\n",
       "A9h1ZFV27wt5LvHfryQR3I/wiHw/vApQlXuXQLJgB4xBktw/ZkZD3EwH/j68JxMx3ogDb5xzvQUO\n",
       "qgU5mxhZrzh+fvvWb5TxDseihGINbP3tT8V6sN7XgzpA1LR/SbYxZGCKYP52YChbfc+xA2LYSCfu\n",
       "SPldZK7ihjq1Tdpa7VRSKhv7Ue/5ltCR1eZ7J97C0A/JW5UU7rPD9eK3mz4TArzfk/Na9+C6xh8b\n",
       "UxnIli38x9s5NqZB7qwPSy4n/ejxGxIeDUvwHX6t9408sz81U9dGs/lgXY4OmOeq+1OW33bcsx4G\n",
       "OC0z0dBdYtM2DNdsIFh57KjD3JgktsgDNW6NDw3uqOhg6nWuq7Ouy1zW/NjgUPxtp6ll8mkRQKq1\n",
       "++rXg5RsDoS2uBxuqNcIKDIS2gla8dmquAmNBZ9gxsuvnXzgo0OcM6WP27h/t4JOtP1iEapvWjo0\n",
       "n071Xiy9isqj2/YtycxPN2n1AhHlNOhlmzZYIjuxmdBFG8h/qRB6N1eH17zj7SK6gGJHAT+hfq6n\n",
       "VQ9EotyBfiXekD5W1MfuJQL4cpZFvr7qAgGtGKElDvc+j/XdajaUI5P9UJZyEEDr/5gW6VYOGNxx\n",
       "LLjO0JUQbLJ2a5YRXTEEqNtpR24QDmocL4HmttrczA/naxrloeUk2sLn60FgbUj4e4e+LYGgt+Ww\n",
       "xUAo0MH8LdKsa9DnWIUWlV1Tzht8siZDCFzOantLzQ4iCKrH7/sGHCn9ehClDbVwxStxlD/AN198\n",
       "wbnwiPcYv75fD+jPC6DwMpPuFaNv+gqTHvOQfKmCPk5br+3lRoqhR3QDrvYAsHc/N0dQQAEJC3gQ\n",
       "Z0MrLfuAuba5UGUPNEaftlMFwbzpGBCV8J7EkqSmenwyzr493kajgGSpTs1GdfUWMw/LfreZFIfJ\n",
       "YMvWTVP3Ik6m58bqw2tTt7u3d+Tn/9kq50ElSQEDO6Z+WwOOrV/GP554CNsB5cWZnrfXcpOnHGlO\n",
       "U065W0SyF3Z/rvRfIZQYQoEftAZh/zEF4IYLdf6a7LJd0lOKtm1Y7Xfk12RxW0EvumQARNOz48Wm\n",
       "e3DJfpzyi7F1cWa16J9cr/qf8an+fr6C2DDSiBmfXdXtzXUQWpcBNzhYrvtJTXXmd81nEgCStEZw\n",
       "+UHWMgGS9KSJwBtbQStZcnPSOkNeVlb8jvEIBs9g87+Y4bzMCqpXtqRzbqVjWYKdS5dTeGGJXNyy\n",
       "iEJ9N/87oFj2mLI0BkZmklVc4Ho3qlvWwBNZYqfgAdIyY3dFIWqWT4zAgI32flx0SYAAAipeBZR0\n",
       "MLkxtVlEk7AMdtaX7+Qzy11y92MUyR/+XMBEjkjbOLDdYYZnXB5N1SZhVqHn+Ci+tyry5vPahHzB\n",
       "1J0u4lcTfVAW+PRk/VVyjkzAye5ElGAb6XK80Mxybt5QiKmiqrcEFaBGROy1T7+4A08O+hy/tSmy\n",
       "JArSZxOKLC9FmCcepG9H22vSH0ogttqawX0K/457fdxo7I667jxpJ7h2RrhPkQcsISL1UhKxefgH\n",
       "wnBeQ8Gz/mEdu9ur+L709ZAcARrf9Kk0whjdxmCO7ibEOaiAJ0O+QFOjbAedrMJ8oCYGTSTXUNOH\n",
       "xQLjGNP5FsvL8Rg/qTAu19Flw9aFoFbFSCpc3BPhtj38S3n1P8gEuPq4cQgoK++Wp4mSqwmh37oT\n",
       "jD26RS9QE+jx3+7vb8sPLv/lZPstP6IyaBDE8PEG38OTMpxnYovWt++X2SSz29ccQS69XgAABTBk\n",
       "0pl6AFSEhM8FelCz0H4l6cjGSVZ/FlNTSdaAlDhh8p2jRFDGxPat58b/SfZnhArM8ld6Ql3HKVbu\n",
       "yxqMHTKZdbHiDZgOZ/yU6fDJMQ6r7zv05tbHfEcyXD3uMxEepfHiwUwrXo1nuAPqf1hPZIwfEOoW\n",
       "UWE8Qiz/aD3SZMifZCzvllHfbk3tm4JsTTVWlhmUK9ZQGAyq0vPKo7ccPE0lbs36bI9QLrMo6oJO\n",
       "4hxMk0MIKe+W0YHlcnQUYzKSaNeEC4/OO7o5OY9o40KvANWKL3zArRNAeEceTzxDgZDz2id4QB0Z\n",
       "aDsRbGkXFxcoOYT5rRHK4ZLHxNNo41xi1AoWCynli7Uw9XTxcHHc1eUGhXlSeZQjIMjNCMm3/HkU\n",
       "p9Qxmw1+bvNiS+efOFKEK0Q44KrfDKSQPOsRZiqPDzCy5NazJtD5nvzXGAALOwbYrk8QoOs1mx/8\n",
       "MVqjwpFfySGvjIcCDMzkxYEd9q2JKZQKg8hkQlVEORuIwV49j4glQjvIxhlL6JvM6tjOLT4rkf1o\n",
       "ykaz+osxE4mgfQ6bxxWnHo74UzC58s7rD+rSvc6RY+M4E5NfLoZ/czx0Fg7glb8bUgRDgcmGpKLf\n",
       "ByVZWwLKMTtpOflpqxPevXgrfj9t7ztwP/K024tgpVrwdIhDYOzFbHjy+hTON6yLxhOiUbViUrHT\n",
       "hu951IAiEVgoV4rmkwZgglO+8ouoTQdF6+J9Y1kqpjMm2L89v8A+ySiMsSoUFcZ+xi0XjEhxyuoF\n",
       "lBVEfzBYQ+pRmY1wYY1xKLTxLLa04lALvyPAl7tLuckoFP70QxcGb4+pmOxNGIUrkG8Wp9eEU8ls\n",
       "SgPKvQpeCo8+4AgGM/SL88uv7cylOV2yslzFYAhMYSJOnLqgGZ2kxuLV9cZ14Yf0c++0ymnkCzNE\n",
       "ikaMMvdohG2CJ2wiZXHGwykNr8CnBGFtx9OJT22/EfiDvotQftIWWbJ/PJlYe4cNmqW0czdbs7B/\n",
       "CDNoa8WUygv46WnAgOxDMksuAD0/U3JUFOn8xbX52sRVwS3Om6MZWY5mujCGK3w2HAL1KBFNEuim\n",
       "hvbetjeT5THvuZEEZwhshAsQNuwYR7iWYWSpq/LYw3c6AXpg4KndIuAKAknu7xRhRe9VNY26BOtQ\n",
       "XwJAc5tWbCXnX0bFlEbzWIYR8iMZN/vQQQFoRNztY1IhtAHrnKJ2D1NzpuD8mZXUlKWrygf5YmH6\n",
       "ueO/BqkxEw+2AVvpAKXyQJR+eSNCc/rE5y++Mmt0w2xbVgQU7SN4jJgTCVd5zOZWlMLC8JzZUVpQ\n",
       "7KRut1YRzkNGMTeL8cgkHZO8rH8F2RtHEargllYllO/guXQEo9u+QK5SNEklICxr21QRJhsNi3Bh\n",
       "hNi+G+BHcUC8/+bc4+cglWi+J6VVJxyrIRntZr5WWp0Vpl0iob1hPsa5erFL5cZ3jHT4bakifmUw\n",
       "yBBtBQgQhmUmu6TdbtFSoY3UuKrxwx/nw8VATWFxXedutfGUxHqtiqeg2V594mg7oKZkU64P8n4i\n",
       "v3AustOVjdGWpwrQ0P8QE3auupVrGhPWZXL/zc11Y5uwNZJjvDDYyiw+kLZP8Pwe+T800afOS0on\n",
       "ZJJ+6KqTb2oyuQ2ys0NTipkMCMKMKysUmqjjnA6iwunyDJuv/ko0pHYmg7OxwTFoyOwhzopWyd0K\n",
       "ok+oKLCICIhaqHnLrr20pIBbyL07Gy8XIlpsUD4fkXFSzUtOKVSnQO2OWkpA6huxfeEkHsSr6eVu\n",
       "Uc7eaeWtrIR+rOuZnnccIuLd1NCJUTLsoXTc9JCYJPwLWo4rJ7PPYPzbgUz1nkolC9L1WNLU9fjd\n",
       "//RRwt0skXDq0AGwbMrJPMx/Cu2oTKUstY6UDLiwuzBqd4TsysgiRHUF3gpBgd4KzAtbMkZQdoVq\n",
       "a76fiaBqZ0LvJqc3Hq34jH62FtOSc9yp3aLPCS7/4O802+i73SVZcFlVO3jhHKO81n9b4IlvYHSn\n",
       "3buyiPzOTrRIsbvEyIUDScmJUvza2rtVPBgrOMqsrCswJjIiuEJ2rMuhgp0E4Pax0v0q1pjlPXpM\n",
       "ht7I8VshNEsto1IqEsHYZqZJgcysteLDVSGQ0bXfokcRVYegdKDQdQgvo1ToGsJhv4l4uGLkhfeo\n",
       "HGrjEZgu/m9lRvVIgpJYA4D80tOO9gq6uDFGURc+oth1RGssV0gMKYxE/33VzDmzIcq3NVMXz4GQ\n",
       "AUJYnZltKdSa+RCsFqe5sfFB+Vo0vGIyIRvJb2Oremk9eem6SfLTHSWnaw79BRYxTL6Zo4t4LYhH\n",
       "VO5Pkp6jxpVAtygNtcOyQHbFRCN5MHSaA9Sk6nvSOBd9yxv71eLgoX1jt+dqUmzKIOjzg5jSXwTE\n",
       "XeLHBeQUAg2q8g65CUR10g6ntKkPV93taLOmUNawlOKGmwj0LKcMki8525SQOavcIm/ql7lvwbEK\n",
       "ufpM6A4mBVh7VeVTHteoZMozjj5/p30HWmwL0Pqf7KozC3ksNRF/EHYf1Dnx+ikfh8u45OYkIt6Y\n",
       "zSvQPSYvYXnGiA+eUuAJL4AnIwYQlb/zi8tqNXwMuHqzPmFRaB31379b9UIj18IYH9ETIL+6S//D\n",
       "KhCKWyAdqz9GALP9BOsK90BYIdwd83Aosi6dV0bES/a6V6Z8T5AcrIxsCzv3eBVBZ12BK47jFhGP\n",
       "5tXSefKtM5mYb1jWjgMQYVGNnWeQ+DoieY6yP7s4Nwyw+aZiO7lzg0VQpNpjtpi7bX1LH1wlK2y3\n",
       "o4I3iU4frtFAV6b59Z6/zxc8Yc8H2Huqk/ZL10NNbv24nkxK6YrIBO90T8Aesd5yxJSkShImQc2p\n",
       "d+KBFaeQt2KAkM+qLlFHJCnvLzhFpq316FUyb8gyLuPlZo9VN3k4+0WxAAuATWfT/rF/mV7GqCh6\n",
       "tJJndkOVfxqlVIsoNfE97Z9oB4MH5QHbd4VSvzQVAeI7ffALpQB5VyNK42BQl6B9/N2y4IBKaDIn\n",
       "0Z+NbrDmf/ks2i7ETStW3HRawi2v//YCJ7ZzZ8Wn9jmkjYzWJsS+yM2AwLsQQn++z63w7afNzxTY\n",
       "DZjTjm0gAABiwQAAAMBBmiNsQU/+1oywAFC5B/rU08iY6AChHg07DsZWTvX39SDzoastabe+2VL4\n",
       "jtPIfiz92tGvdQMhKGhuEQQThK8yhV2tTmsFM9FudgCMYV+/7XQe09Cz0a6JLz0/cMhPrjAnn9vN\n",
       "RaSBTP6SijRtfE/GQF7KefXNEgH74WjA7I9tVWS+PD9Jx2vDn+DTIZ8NVEZCrzCF2g2ZOvpKb3QK\n",
       "pvK0/EsGfu1DMUACbqKGBcA5s8sEtKh+t8buQ4GwmcYJYxwAAACSQZ5BeIIfAAGHyn0ruextIrq4\n",
       "4Sxtr5s7/HgAGi22StBXwnQLld9FgdIaHaqcY705QIyro/7EdQ8OWVbeyo3KU9yVS8+ZtyEQvbif\n",
       "50Hxj+c2Er3PzmYoTQWc7mogkTxQibwtw+wH5LYM2LqgjCa8RXkkTO8AwBlkr3YRrlWNps17Iru1\n",
       "dZJ/geFP1CTLwFgfXJEAAACFAZ5iakP/AANf45qJBD1gc/8729OoAHXjnclzm1HSdEn+yQrKzyef\n",
       "CBdQRP/55IRMfMerHtNk9c0v2/UQtXnKFH+ZSjFz1KrZayqOxgKwMXv+UoXWK4t+kyaY92Z8ub3T\n",
       "aQfUVQsYGsSLWAG+payFBxCOdS+StSkv3qqMNBw5NQAAWCzugwAAAGZBmmdJqEFomUwIKf/+1oyw\n",
       "AFBAzgw3iJrERLG2C2Pf/ZFjhw60AEz1fOaEJaVbLUST0fR80HKu9/xyf/enzgIgMcuMqah7PKXp\n",
       "RUbDmG3OdAF3I8lc8fLYc0EKeyl/B0Sbu0AAd0EAAACPQZ6FRREsEP8AAYeh0zj1+n5MAUm8qmJo\n",
       "15ewScn/OOJsKy+VJXlBEYEyVu1hDqZox21Jg97qLNTnIY82ZgGo8ToT6ntsBX9dFwjlP4r+pY+M\n",
       "9BgLdzqMvhT1EVOMUNAX52QSfFA22bV6dzKxFTBuVasWDcrXszFKBni16d29nAbRWVjnU08zcaD/\n",
       "jhgAHVEAAAAZAZ6kdEP/AANgHASEpn31myTaCSAAAAMBTQAAAI0BnqZqQ/8AATVo+v35W3pgYdWq\n",
       "YL+6wAXzaqZM+ryVVp0PsMmhEX+MvxZnTpYh0/s7sR1Dw5ZIWDKjcoee1vODQOZjaxbbYdATqtKA\n",
       "h30QZ1MLhDselOIqS4nfkmmi3t9BZ63MoLFOwVowmvEtkCqMXbfFz72xuwh676vF9TKvNjcHRviD\n",
       "iGUrA9GAAdUAAACoQZqrSahBbJlMCCf//rUqgAByflKVQghPfp6V7OEKO0ZuAcDL9p/Y1JTrwIlr\n",
       "IpQHguodyMHDkqskpX+3FeA/oLqBGg1YoXBlNQPXUKyF6CuXoQ+0d0uyz+HXhXLYcemjzlBv6915\n",
       "cA1e9kOJQdxnwFySkSJ6O6sAElrCgIffvf5yfGwqhKYttkLh8S5SFwJMdq5n+RLno4i+mLjaJXTh\n",
       "ECngPEzdtnSAAAAAi0GeyUUVLBD/AAADAAmqHanHr9UCl6jbA2/h9eTsAJavK/ekhJPdV2wofoYP\n",
       "471PXTUOvOm/kUJgLix+3fgY9Nf1CPl7/+PIboMZwKDzxOEGit/5Wrhz/FqZpgphvYZplKBxhDFX\n",
       "qNFvBZkPWWm7MY40mJ1eCKQvGY0FavYK9tCkVysuhhnJ0becZpUAAACSAZ7odEP/AAADABWRbdGB\n",
       "xZmb5KA+hT0aaDDrdIAAdCSvSTownQLld7DJoRF74v6gPVv9EhUpTNIlquxxoVwBnSdJ4NjmXFz8\n",
       "kugv4SabcZkQttGOm6YjP6m1HN2aGRAslbXI6uX2PK4bbRzhsWmeNgQicBEQ4KvFUWw7o6yZJC3t\n",
       "1O6tTsAXutV9eHsOmbee5EMAAAAkAZ7qakP/AAADAAfDsfVl9sozPq/Zizh8DDz3zwNH8h47EPDY\n",
       "AAAAakGa70moQWyZTAgn//61KoAAABXeJ+HwOW+UAASjUiKTos210xGqlSiDGfW1v+zpDwnfYr5s\n",
       "p1p//jzecCG0nane6euLKCbxcA5PTIeNtboBF+bFXzRof5zO/8IBQAGTt8GKAgCLvckMbrQAAAAz\n",
       "QZ8NRRUsEP8AAAMAGvv6xrMddT05IGaVOOKRqazcdAPVWMM6uRjAHSCD//JcBLI2YV3BAAAAOgGf\n",
       "LHRD/wAAAwAHwr44Bfg0Ei9scesA+fjt0L1h27wJSv7v4UBMBWckdNW69AgVyPSRGHP/zLR/3IEA\n",
       "AACQAZ8uakP/AAADADtdjIsDmf162m4hbAPn47dC9Ydu8CUr+hW+YcqSvKB/pNjrvdhDqZox2c2u\n",
       "ovUSo8aWl0szACD/zka1Pbgf3Bwk7Sp+CJiEnjBEsAuMNdcjqqIipI9Xk2Ctck/85NwDf9LVoy2V\n",
       "MG5VjuFsFuGm1QV03rwTy/C3vRIaxeZMyKx8xrF9t/dBAAAAj0GbM0moQWyZTAgn//61KoABOeav\n",
       "4bYKKAA7TeRajIEk94x2tNBU33qXy9MEpodOpJrj+nPsTPh9QZTcF/UI+X//484Rs4P4oq/OrUYW\n",
       "R/K1emF/AZ4ACawTAn3TWJ0IWybWerbtPc4RWGJQfOWgF6OBKvGBW5X6Pfkb48QTFLpZoi/CXW1w\n",
       "MUerfu6gABswAAAAJUGfUUUVLBD/AAGHv7vtgPw4Ws+WuLPKfocieMsd9dAGlfAmNmAAAAB/AZ9w\n",
       "dEP/AAE1jLkJEETgZmba+bOqR1gAvm03sqF5sn8VLkbLG5dM+JWmqMjkIOZ6i9GXQOpLF+EBHNUy\n",
       "gg+b+JdAO7MBW/Mz38X8YDBClbSAnsCYivu16fSG51dNcG0ECKta+YdlbJfb6tZR23KI5jezQ2Pa\n",
       "WaMDv8QFzBmloQAAAB8Bn3JqQ/8AA1/A7gJWKU57hwWPt5Knjj5dGAcgSHRgAAAAkkGbd0moQWyZ\n",
       "TAgn//61KoABOEsIcB9qGkQXFyyknyIAD+Z4xUjUbQdagAdwlEGDWM7GG/Br7wzvuz1GwB9XCJvd\n",
       "NoPPoy0QBoFfmumH3PUqQ+J3hjjv4L+IIfPxuqe0+j4c+757PZeoXPs5UZpjh0JH2mk8B+x0Gcfh\n",
       "9lMO9utBUT3sQEsONKENpOQjlHoleQd0AAAAhkGflUUVLBD/AAGHoffZxKQTtlciCu7HKebOqQ/w\n",
       "AZbbKINHFtJlt0MiyxuaBTw4cngQ7pTSR8Zo6lHRV1PwgI6LCKt7VDW/GhQIdZz4kd5jCriY4Ura\n",
       "PdSQTEV94gLzJPlUQrg2gbJfjM/dY/gPQ+pzsirXKIX2O9Ac7VEBgbRk5Q/hmFlRAAAAigGftHRD\n",
       "/wADX3Se5AsPN41Wh6/6Iq+5cdABxI9InjSGFXRZ+66wv2R6K60uk3tzJYyMJSrhKzP2RLWefoHQ\n",
       "+hRGOTvfYv6Qtzb/fUedG6WWx5xLUBoE0sbDs4DtpVWW03FaBBnVSZdIf/nYRGTiajlUJqNq2rZ+\n",
       "+6jBSLfVkyAi9y2GkPPgOEuD5gAAAIkBn7ZqQ/8AAAMAqBOfbuhfe9LJcGQ/7C7arwAJ1tVMHe/b\n",
       "CUqNKHXB0c/cEf5PrFKgFtJd4YgVyIFH5hxsSUBBRBZKjY/qTE4NL7a4f9kqxTO+W0e4ZeS4V/MQ\n",
       "goU39b6sN6bTZley6ZQvww6HN4SkK8CJ/95WUK/Oygp77MHVcYEFqp8nS6DMgQAAAJFBm7tJqEFs\n",
       "mUwII//+tSqAAAADAAGAmkgHzbPvfNl/sI18qgAy23r+u/Sv7lbNwesx78SGqoYx1MMf7Z+WX/YC\n",
       "ewvdKTEWY+6xwwzvSouWDHriKO4SQ7OgfDMM94wxk/8QZiwvlTwAPnyuRZqx+hqq/on65/UrZN/3\n",
       "L79THjo0Gf1WPvwM4IqIIJHwctPqLGpBAAAAmkGf2UUVLBD/AAADAAOJqmhHZ5KXB+hZ20iBc/o7\n",
       "9EivoNNBhvnB8AGrvwOL1qHnq+GF5hf3vkuyb6wIgeL5NrGY+I0v462EJRpA0eQ7yC2IVqcEztzc\n",
       "qE//V4uC01AJHWTy/IoqO0+5gTCIpQcPMkwzZKh4DpxTr2KAqxlXhGoCWSnchGVuKO1voSn6IyYv\n",
       "jxbeQLJAcTa/VC4AAAAjAZ/4dEP/AAADAAfCvjgufrsr2elbROCePOiFPfN5/LJm18MAAAAkAZ/6\n",
       "akP/AAADAAfDsfWOiNVn/N5sCJLY2g+8AWB331SbtmmAAAAAjEGb/UmoQWyZTBRMP//+qZYAAAMA\n",
       "Fd4W/O9uyMAB1453Jc5tR0nRJ/skKys8nnwgXUET/+eSETHzHqx7TZPXNL9v1ELV7PBR/mUtEmjF\n",
       "87DWVR2MBWBi9/ylC6xXFv0mTTHuzPlze6bSD6iqFjA1iRawA31LWDzkpypbqXuS6kv9SyTmcuua\n",
       "AP/8DjRhAAAAjwGeHGpD/wAAAwAHxC+fUGjelwA8dFhV9BpmBO+qAAOhH6IXnMwa1uhkWWNKXBt3\n",
       "Cc+ooRwcYve++TKihP0SJLT1krSJP1j94Y1NzTPeGRYAz3QMHxGwxn0ndlnW259nUgF4GKdi94Jt\n",
       "fzloscc6oOzMEWk5SSHvdZ65fN9YFbTCrmzVrUH3mUhefmXWog9BAAAEkW1vb3YAAABsbXZoZAAA\n",
       "AAAAAAAAAAAAAAAAA+gAABdwAAEAAAEAAAAAAAAAAAAAAAABAAAAAAAAAAAAAAAAAAAAAQAAAAAA\n",
       "AAAAAAAAAAAAQAAAAAAAAAAAAAAAAAAAAAAAAAAAAAAAAAAAAAAAAAIAAAO8dHJhawAAAFx0a2hk\n",
       "AAAAAwAAAAAAAAAAAAAAAQAAAAAAABdwAAAAAAAAAAAAAAAAAAAAAAABAAAAAAAAAAAAAAAAAAAA\n",
       "AQAAAAAAAAAAAAAAAAAAQAAAAAKAAAAB4AAAAAAAJGVkdHMAAAAcZWxzdAAAAAAAAAABAAAXcAAA\n",
       "EAAAAQAAAAADNG1kaWEAAAAgbWRoZAAAAAAAAAAAAAAAAAAAKAAAAPAAVcQAAAAAAC1oZGxyAAAA\n",
       "AAAAAAB2aWRlAAAAAAAAAAAAAAAAVmlkZW9IYW5kbGVyAAAAAt9taW5mAAAAFHZtaGQAAAABAAAA\n",
       "AAAAAAAAAAAkZGluZgAAABxkcmVmAAAAAAAAAAEAAAAMdXJsIAAAAAEAAAKfc3RibAAAALdzdHNk\n",
       "AAAAAAAAAAEAAACnYXZjMQAAAAAAAAABAAAAAAAAAAAAAAAAAAAAAAKAAeAASAAAAEgAAAAAAAAA\n",
       "AQAAAAAAAAAAAAAAAAAAAAAAAAAAAAAAAAAAAAAAAAAAABj//wAAADVhdmNDAWQAFv/hABhnZAAW\n",
       "rNlAoD2hAAADAAEAAAMACg8WLZYBAAZo6+PLIsD9+PgAAAAAHHV1aWRraEDyXyRPxbo5pRvPAyPz\n",
       "AAAAAAAAABhzdHRzAAAAAAAAAAEAAAAeAAAIAAAAABRzdHNzAAAAAAAAAAEAAAABAAAA+GN0dHMA\n",
       "AAAAAAAAHQAAAAEAABAAAAAAAQAAIAAAAAACAAAIAAAAAAEAACgAAAAAAQAAEAAAAAABAAAAAAAA\n",
       "AAEAAAgAAAAAAQAAKAAAAAABAAAQAAAAAAEAAAAAAAAAAQAACAAAAAABAAAoAAAAAAEAABAAAAAA\n",
       "AQAAAAAAAAABAAAIAAAAAAEAACgAAAAAAQAAEAAAAAABAAAAAAAAAAEAAAgAAAAAAQAAKAAAAAAB\n",
       "AAAQAAAAAAEAAAAAAAAAAQAACAAAAAABAAAoAAAAAAEAABAAAAAAAQAAAAAAAAABAAAIAAAAAAEA\n",
       "ABgAAAAAAQAACAAAAAAcc3RzYwAAAAAAAAABAAAAAQAAAB4AAAABAAAAjHN0c3oAAAAAAAAAAAAA\n",
       "AB4AABU6AAAAxAAAAJYAAACJAAAAagAAAJMAAAAdAAAAkQAAAKwAAACPAAAAlgAAACgAAABuAAAA\n",
       "NwAAAD4AAACUAAAAkwAAACkAAACDAAAAIwAAAJYAAACKAAAAjgAAAI0AAACVAAAAngAAACcAAAAo\n",
       "AAAAkAAAAJMAAAAUc3RjbwAAAAAAAAABAAAAMAAAAGF1ZHRhAAAAWW1ldGEAAAAAAAAAIWhkbHIA\n",
       "AAAAAAAAAG1kaXJhcHBsAAAAAAAAAAAAAAAALGlsc3QAAAAkqXRvbwAAABxkYXRhAAAAAQAAAABM\n",
       "YXZmNjEuNy4xMDA=\n",
       "\">\n",
       "  Your browser does not support the video tag.\n",
       "</video>"
      ],
      "text/plain": [
       "<IPython.core.display.HTML object>"
      ]
     },
     "execution_count": 45,
     "metadata": {},
     "output_type": "execute_result"
    }
   ],
   "source": [
    "# Creating animation\n",
    "animation = camera.animate()\n",
    "# Displaying animation\n",
    "HTML(animation.to_html5_video())"
   ]
  },
  {
   "cell_type": "code",
   "execution_count": null,
   "id": "2faafc49-01b8-40c2-bd48-b0f5e22fc37d",
   "metadata": {},
   "outputs": [],
   "source": []
  }
 ],
 "metadata": {
  "kernelspec": {
   "display_name": "Python 3 (ipykernel)",
   "language": "python",
   "name": "python3"
  },
  "language_info": {
   "codemirror_mode": {
    "name": "ipython",
    "version": 3
   },
   "file_extension": ".py",
   "mimetype": "text/x-python",
   "name": "python",
   "nbconvert_exporter": "python",
   "pygments_lexer": "ipython3",
   "version": "3.13.0"
  }
 },
 "nbformat": 4,
 "nbformat_minor": 5
}
