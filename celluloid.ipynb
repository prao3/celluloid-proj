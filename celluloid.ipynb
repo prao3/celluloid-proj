{
 "cells": [
  {
   "cell_type": "markdown",
   "id": "886d24c5-346c-4717-a635-0e554177eca3",
   "metadata": {},
   "source": [
    "<b><font size=20, color='#A020F0'>Celluloid</font></b>"
   ]
  },
  {
   "cell_type": "markdown",
   "id": "7e44a7da-72ff-4387-854b-b0b39ee52561",
   "metadata": {},
   "source": [
    "Matt Oehler and Prem Rao<br>\n",
    "10/23/2024"
   ]
  },
  {
   "cell_type": "markdown",
   "id": "98b1b91e-5c49-454b-84c2-822f4419c513",
   "metadata": {},
   "source": [
    "#### <span style=\"color:green\">Learning Goals</span>\n",
    "By the end of this notebook you will\n",
    "1. Understand how ```celluloid``` works\n",
    "2. Create fun and interesting animations!"
   ]
  },
  {
   "cell_type": "markdown",
   "id": "912c5320-74c9-4929-b7aa-168379856f9f",
   "metadata": {},
   "source": [
    "#### Resources\n",
    "Documentation<br>\n",
    "[celluloid](https://pypi.org/project/celluloid/)<br>\n",
    "[matplotlib ArtistAnimation](https://matplotlib.org/stable/api/_as_gen/matplotlib.animation.ArtistAnimation.html)"
   ]
  },
  {
   "cell_type": "code",
   "execution_count": 1,
   "id": "71761f1f-8daf-45a9-acbc-0e73ee1c9d3b",
   "metadata": {},
   "outputs": [],
   "source": [
    "# Importing celluloid\n",
    "import celluloid"
   ]
  },
  {
   "cell_type": "code",
   "execution_count": null,
   "id": "cee49eb7-c7db-4df4-85ea-dcafbf0437e4",
   "metadata": {},
   "outputs": [],
   "source": []
  }
 ],
 "metadata": {
  "kernelspec": {
   "display_name": "Python 3 (ipykernel)",
   "language": "python",
   "name": "python3"
  },
  "language_info": {
   "codemirror_mode": {
    "name": "ipython",
    "version": 3
   },
   "file_extension": ".py",
   "mimetype": "text/x-python",
   "name": "python",
   "nbconvert_exporter": "python",
   "pygments_lexer": "ipython3",
   "version": "3.13.0"
  }
 },
 "nbformat": 4,
 "nbformat_minor": 5
}
