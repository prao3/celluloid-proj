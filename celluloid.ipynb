{
 "cells": [
  {
   "cell_type": "markdown",
   "id": "886d24c5-346c-4717-a635-0e554177eca3",
   "metadata": {},
   "source": [
    "<b><font size=20, color='#A020F0'>Celluloid</font></b>"
   ]
  },
  {
   "cell_type": "markdown",
   "id": "7e44a7da-72ff-4387-854b-b0b39ee52561",
   "metadata": {},
   "source": [
    "Matt Oehler and Prem Rao<br>\n",
    "10/23/2024"
   ]
  },
  {
   "cell_type": "markdown",
   "id": "98b1b91e-5c49-454b-84c2-822f4419c513",
   "metadata": {},
   "source": [
    "#### <span style=\"color:green\">Learning Goals</span>\n",
    "By the end of this notebook you will\n",
    "1. Understand how ```celluloid``` works\n",
    "2. Create fun and interesting animations!"
   ]
  },
  {
   "cell_type": "markdown",
   "id": "912c5320-74c9-4929-b7aa-168379856f9f",
   "metadata": {},
   "source": [
    "#### Resources\n",
    "Documentation<br>\n",
    "[celluloid](https://pypi.org/project/celluloid/)<br>\n",
    "[matplotlib ArtistAnimation](https://matplotlib.org/stable/api/_as_gen/matplotlib.animation.ArtistAnimation.html)"
   ]
  },
  {
   "cell_type": "markdown",
   "id": "97a0a4e8-df95-4089-8329-d13de018a6f0",
   "metadata": {},
   "source": [
    "# About Celluloid"
   ]
  },
  {
   "cell_type": "markdown",
   "id": "4f5df37e-b72d-41f3-af7c-a6bcdcfcf10e",
   "metadata": {},
   "source": [
    "```celluloid``` is an extremely small module, written in 50 lines of code! It is designed to make creating animations using ```matplotlib``` quick and easy, so all the complexity of your code is contained within your plotting. The ```Camera``` object is the only object within ```celluloid```, so we will just import it directly:"
   ]
  },
  {
   "cell_type": "code",
   "execution_count": 4,
   "id": "71761f1f-8daf-45a9-acbc-0e73ee1c9d3b",
   "metadata": {},
   "outputs": [],
   "source": [
    "# Importing celluloid\n",
    "from celluloid import Camera"
   ]
  },
  {
   "cell_type": "markdown",
   "id": "e068c063-0559-43d3-8f39-9239b34b4eb8",
   "metadata": {},
   "source": [
    "Also, importing some other useful libraries:"
   ]
  },
  {
   "cell_type": "code",
   "execution_count": 36,
   "id": "5c8bd426-5ee2-469d-bfde-5a9539bde225",
   "metadata": {},
   "outputs": [],
   "source": [
    "# For plotting\n",
    "import matplotlib.pyplot as plt\n",
    "\n",
    "# Always use numpy\n",
    "import numpy as np\n",
    "\n",
    "# For showing animation in the notebook\n",
    "from IPython.display import HTML\n",
    "\n",
    "# Other libraries\n",
    "# LIBRARIES FOR MATT! (DELETE THIS B4 PRESENTATION)"
   ]
  },
  {
   "cell_type": "markdown",
   "id": "a33f319e-de8d-4edf-8273-c7b3dfacf0c5",
   "metadata": {},
   "source": [
    "### 1. Setting up the Camera"
   ]
  },
  {
   "cell_type": "markdown",
   "id": "7d4e4900-73f4-4ab5-8e9a-aa60b98564c2",
   "metadata": {},
   "source": [
    "The 'camera' points at a figure we give it. The camera can take 'pictures', which will become the frames of our animation! To create a camera, we first need to create a figure:"
   ]
  },
  {
   "cell_type": "code",
   "execution_count": 52,
   "id": "cee49eb7-c7db-4df4-85ea-dcafbf0437e4",
   "metadata": {},
   "outputs": [
    {
     "data": {
      "text/plain": [
       "<Figure size 640x480 with 0 Axes>"
      ]
     },
     "metadata": {},
     "output_type": "display_data"
    }
   ],
   "source": [
    "# Creating a figure\n",
    "fig = plt.figure()\n",
    "\n",
    "# Giving figure to our camera\n",
    "camera = Camera(fig)"
   ]
  },
  {
   "cell_type": "markdown",
   "id": "b9e8f6f4-e4bd-43fa-81e2-08a3b18d1b5a",
   "metadata": {},
   "source": [
    "### 2. Capturing a frame"
   ]
  },
  {
   "cell_type": "markdown",
   "id": "faf6e882-a891-46e7-915f-1a2eb3511802",
   "metadata": {},
   "source": [
    "Now we need to plot something! We can capture a frame of our animation using the ```snap``` method. Building up a series of frames will create our animation!<br>\n",
    "For this example, let's animate a point, moving up and down:"
   ]
  },
  {
   "cell_type": "code",
   "execution_count": 53,
   "id": "0fb0f51e-a178-4b05-9bc4-1d6a09d57528",
   "metadata": {},
   "outputs": [],
   "source": [
    "# First, creating an axis to plot on\n",
    "ax = fig.add_subplot(111)"
   ]
  },
  {
   "cell_type": "code",
   "execution_count": 54,
   "id": "cae84a9d-4764-481a-a7e1-e17332c91494",
   "metadata": {},
   "outputs": [],
   "source": [
    "# The number of frames our animation will have\n",
    "frames = 30\n",
    "\n",
    "# Creating a range of time values\n",
    "times = np.linspace(0, 8*np.pi, frames)\n",
    "\n",
    "# For each t in times, plot a point at sin(t) and take a picture\n",
    "for t in times:\n",
    "    # Plotting\n",
    "    ax.scatter(0, np.sin(0.2*t), c='k', s=100)\n",
    "    # Capturing image!\n",
    "    camera.snap()"
   ]
  },
  {
   "cell_type": "markdown",
   "id": "f1a2cddc-da2c-45eb-935c-218bc58dc6eb",
   "metadata": {},
   "source": [
    "### 3. Animating"
   ]
  },
  {
   "cell_type": "markdown",
   "id": "422d997b-9a18-4fc2-b416-6fad223a3784",
   "metadata": {},
   "source": [
    "To animate, we just need to call the ```animate``` function. This returns an ```ArtistAnimation``` object from ```pyplot```! \n",
    "\n",
    "We can save the animation using the ```save``` method from ```ArtistAnimation```, or we can display the animation in a jupyter notebook using ```to_html5_video``` and ```IPython.display```'s ```HTML``` method, which we imported earlier:"
   ]
  },
  {
   "cell_type": "code",
   "execution_count": 55,
   "id": "01929d88-9d52-4f7c-ba8b-3dcc2f8081e0",
   "metadata": {},
   "outputs": [
    {
     "data": {
      "text/html": [
       "<video width=\"640\" height=\"480\" controls autoplay loop>\n",
       "  <source type=\"video/mp4\" src=\"data:video/mp4;base64,AAAAIGZ0eXBNNFYgAAACAE00ViBpc29taXNvMmF2YzEAAAAIZnJlZQAAIG1tZGF0AAACrgYF//+q\n",
       "3EXpvebZSLeWLNgg2SPu73gyNjQgLSBjb3JlIDE2NCByMzA5NSBiYWVlNDAwIC0gSC4yNjQvTVBF\n",
       "Ry00IEFWQyBjb2RlYyAtIENvcHlsZWZ0IDIwMDMtMjAyMiAtIGh0dHA6Ly93d3cudmlkZW9sYW4u\n",
       "b3JnL3gyNjQuaHRtbCAtIG9wdGlvbnM6IGNhYmFjPTEgcmVmPTMgZGVibG9jaz0xOjA6MCBhbmFs\n",
       "eXNlPTB4MzoweDExMyBtZT1oZXggc3VibWU9NyBwc3k9MSBwc3lfcmQ9MS4wMDowLjAwIG1peGVk\n",
       "X3JlZj0xIG1lX3JhbmdlPTE2IGNocm9tYV9tZT0xIHRyZWxsaXM9MSA4eDhkY3Q9MSBjcW09MCBk\n",
       "ZWFkem9uZT0yMSwxMSBmYXN0X3Bza2lwPTEgY2hyb21hX3FwX29mZnNldD0tMiB0aHJlYWRzPTEy\n",
       "IGxvb2thaGVhZF90aHJlYWRzPTIgc2xpY2VkX3RocmVhZHM9MCBucj0wIGRlY2ltYXRlPTEgaW50\n",
       "ZXJsYWNlZD0wIGJsdXJheV9jb21wYXQ9MCBjb25zdHJhaW5lZF9pbnRyYT0wIGJmcmFtZXM9MyBi\n",
       "X3B5cmFtaWQ9MiBiX2FkYXB0PTEgYl9iaWFzPTAgZGlyZWN0PTEgd2VpZ2h0Yj0xIG9wZW5fZ29w\n",
       "PTAgd2VpZ2h0cD0yIGtleWludD0yNTAga2V5aW50X21pbj01IHNjZW5lY3V0PTQwIGludHJhX3Jl\n",
       "ZnJlc2g9MCByY19sb29rYWhlYWQ9NDAgcmM9Y3JmIG1idHJlZT0xIGNyZj0yMy4wIHFjb21wPTAu\n",
       "NjAgcXBtaW49MCBxcG1heD02OSBxcHN0ZXA9NCBpcF9yYXRpbz0xLjQwIGFxPTE6MS4wMACAAAAS\n",
       "nmWIhAAT//73sY+BTcgADZc6inof4RWx9JBRerHZoGTqAAADAAADAAADAigXteKQMJledeAAABkw\n",
       "A10I/wZ8n5k4gHLRg+C8awxLi0ifWCA1OWyK6xY3dJDNVEePjyOK6c7iYJTcPt10U1FgCP4YD42z\n",
       "TVB2/l5Y7aPgBvO5fd1mhNgOb5mP5pMAkUhfYhPkCCmE+FsSgRrKGqz5/I0R8OxjUoQuymPnMN2m\n",
       "YAYW1OeO/7ULHm8E2zhG4W5awQEIr2hXRRPZ61+HrfA+NkIr0biboMoEHEruwJlpXpwS2Hgg8yZ/\n",
       "kLU4d0eTVcBOEXuMiiGwkLGair/f1fWiOu5SbtkmkQYiW6k1BhxtQXjau4XO25EqjJt5Tk2RSkKh\n",
       "722gk2F6gjyY77ElwOOfKo0WpVxA0LjVY5z3BgA8MumIJUbbSjtvicdEx3kLQMjuTUvbGwjaqPpl\n",
       "eewOH478TBGWGc6lTQdp37OQmlDf48SLHqgVKhRwQVHbcjzuEetr75KGbk58HqunAe2P7P5Pl+aQ\n",
       "3+2FhM04x9osJoOK6FiLI7IMO44Z9k/66sKfgLtWw627JAY6K5EW5a/1D1UIsGvbk+bPhx3H7Fsn\n",
       "jCaRmT1eqCMN5LIrJHKbk948ZXiR7RG7pKqxae6JzdFvtmtKYxafBjE9WrZu3FLWkgJr53cSij5s\n",
       "GLtdKmFHtmMWFvQt85DIe7vnvaTsB9NXeA4GyIkFOmajAcGLVTv95bzWGQrPzaUd4tthyU/x2u5+\n",
       "4ueP/+/VBpcQy65HVXyvUQ1r/XnkFNEHc6jilIpn603RIpuURALmIYXq2vHsEVHxdqTbGPq0eNUH\n",
       "w7Rd1WyMPCU2JlX9ttq+r/7ns1mY5HreLLlzLrNdtJ8wH3oNf6DvRkd4vuiVqw+yWke+zc934ARv\n",
       "1cObdhGi/isdLGAsp4abUhi9JoWvIcr7f8LFswzJ7JSTZHgmFimmBc25SxC2Sv4D4l4hQH8Ybomw\n",
       "q55W9K9UzxDsv7Zu8voleaLPQOjBJstTv++yOi/AvXzCEHkc13jGQBqe5UPXFKcPndsuLBEWZ2w9\n",
       "csdgPWPmhG74yy46IjlAf+PMmnd3LuMjjvGKS8T1u+RfY8hOoKXkzxmpB37c5rWrIf1EVekJtdSx\n",
       "xmUztLJfPyY8TOxg1DD47kFRUvBQnWpDogUfpENMIMW6DP4ejKEZrdx7Zl8BiUB7rSw5mquABuNq\n",
       "kXs5XapdAqbUN6D5SxaTH+YeeR5Y5v1n3BiIjNXNZwJt4LQV69MkgIVvJCgx6db/icqmvLo5Peri\n",
       "WR+IZPa41K9ThOoBxKWXAsAHeXe0LWbSlgH/jnsenfv8+oi51jig/fCu0p+zwRTjg9mrE/SDHWvP\n",
       "3PgZNsq40gMsXl9dZLG1v81HWe6m6IVYT3fLU4GtJDS6DDr0MBOituvN0zMMEdl3VdNkOYLPjAax\n",
       "shWy8UXfcHJwxG/XpKir4YdgdNwQWbtxS1pICbBNTwPJocOo3PayE8R//ZlBzYBFj841dCJV8IHs\n",
       "OrIqu3eFvJd479eSCO5H+EQ+H94FKEq9ybsUOLSnGyluH7MjIe4mA/8fXhOJmO9gAbfOOd6Ch1UC\n",
       "nM2MLQOcPz996zfKeIdjzUIxBrZ+9qfivVhva8GdIGpaP6TbGLIwRTB/OzAULb7n2IGxbCQT9yR8\n",
       "rrJXcUMdWqbtLXaqKRUN/aj3/MtoSOrzPZPvYWgH5K3KindZ4frxW82fCYFeb8n5rXvwXWMPjamM\n",
       "5EsW/mPtTpLkFMrgA9b8Bf9xpaCTBQx78FvwGd5LnUzcQB2SO8thGTzZKTtwERHStJ9VxKax9Bba\n",
       "Ras1USWetZLOND6OEqV2g1Ubgsnugf4j5t6mftS0xuCUkYQrsP7c12Cs9xyByKp5djRvJZHPC7e4\n",
       "0QOUbDabeujqlG0tGRMos34fp5jYmLgJjQWfYLTLmR5xnKNDmXOlj9u4f0gDLkgUuiaBSaZH5l9O\n",
       "9V4svYrKo9v2LcnMTzdp9QIR5TToZZs2WCI7sZnQRRvIf6kQejdXh9e84+0iuoBiFQE/oX6up1UP\n",
       "RKLcgX4kLJhWwtY58aoAQNGVtZ5lIfjzXE5gxyqufR/rutRtKEcp+qEs5CCB1/8wLdKkHDG44llx\n",
       "naEqINljzNcsIrpiCVG20o7cIBzUOF8Dup9PmulSs53vKY2NVNk2/bnFyntST7cYwLYGgt+WwxUA\n",
       "o0MH8LZxsa9DnWIUWd0ogjht8siZDCFzxm2o/wkgFYOOx7XPFGaHJW7ClDbVgxMnnRO3HQQKGIbn\n",
       "wiPcBv75fD+jPC5NxJxxcK0bf870mPecg+VMOXpy3X6utyjmHgaBmmnACwdz83R0BAAOwI+BAnRy\n",
       "s07Fe5trlQZQ80Rp+2UwXBvOkYFIvUw6SSpKZ6fDLXikPvI1HAMlSnZqM8eosZh+W/W8yKQ+SwZe\n",
       "r+KfuRJ1Nz43VhtaeiCGdefa01p0E70ElSQEDO6Z+Wv+OiNKGP554CNsB5cWZnrUGDEPHHGlOU06\n",
       "5W0SWF3Z/rvRfIZQYQoEfsyZh/zEF4IYLdf6abLJd0lOKtm1Y7W4nkpjhsY+B3T3gEA2xTI2zH9o\n",
       "YHM41X6AQ8m+Kzp9cr/qf8an+fr6C2DDSiBmfXdXtzXUQWpcBNzhYrvtJTXXmd81nKACBtEZxSXH\n",
       "WMgGS9KSJwBtbQStZcnPSOkNeVlb8jvEIBs4u52HBKem/ByyM9XadNTA/dptZeZwzzDWWb1CEBVO\n",
       "Hbf+d0Cx7TFkaAy7iabGWkWZONaZM2C7YldPwAOkZMbuikLVLJ8ZgHEB7Py4Q/YAAAUFg2fDKhly\n",
       "Y2qyiSdgGO2tL9/IZ61d2VdVXeI//LmAiRrBqaNhusMMzrg8m6pMwq1Dz/BRfW5V5c3ntQj5g6k6\n",
       "XcSuJvqgLfHoyfqq5RyZgZPciSjAN9LleaGY5N28oRFTRVVuCCtAjInZap9/cAaeHfQ5f2pTZEgV\n",
       "pM4nFFheizBOPUjeP7bXpD6UQW21NYL6Ff8c9vu40dkdddx40k9w7I1wnyIOWEJF6qQlYvPwD4Tg\n",
       "vIeDZ/zCO3e3V/F96esgOAI1v+lSaYQxu4zBHdxNiHNRAE6HfICnRtgPO1mE+UBMDJpJrqGnD4oF\n",
       "xjGn8i2Xl+Iwf1JgXa+iy4etC0CtipBUubgnw2x7+Jbz6n+QCXH1cOIQUFffLU8TKNPZzJARxxSC\n",
       "jY2kiT6Ii827OTJ5CvvhmH6GoESqWkpsbj++K2OIPwMaOrbqC/mOxy8kUF/+GR9JiEAE5Kd9hazM\n",
       "AXIZNKjar8H7L/7aFHdTD6Sfdrt0Bon/4RBi//nHwGclc+1Z5kbAVw6LZPjf6UL1asUCQ2HBOMSv\n",
       "VS6eVjRrhW0WqRSADjgvwAKqfuQ6IyxkSgrNy2AGswYjfr57jWBbCj48WCmFa9GyVD3ejZnFqHYA\n",
       "ubM9CLj4wOrvWtYpNBOGHz7KKVmuH2k/P4AW5F0TsUnGWKysFHMujmyWvUNCwrD45sK8J9lt9wiY\n",
       "j5h49QLrMo6oJOpHPV2+whg++B96fq2V412WhiyDYUhoVGNQy/tPi479CrwDVii98vp9otuaSbo0\n",
       "fJin7holj4vmVGT2diLX3LE2UT1amfmsb0rOfcqPDZ7jU48PiEgMm1BAtIbqPYKZhJXK1iecK8qT\n",
       "zKEZBkZn60voEdClYnrEoUzgF6vWCvz5wpQhQVGDAOIbN9SdKwmeNEp/Pd4NMfPFFEpRwAP2QMXv\n",
       "yC4tLSkAOqPC8LBv7CeY6Z/Z1UFDeLGWHomoRG6N4naoCccdSIKGtwHe9VQVyneGDdy2FhBZzsXp\n",
       "X2Yg3UV9mw8eZBKqG3JP7p7BpiozvSeA2WU6DRYIkFrW8PAJhc+Wd1h/VpXudIsfGcCco79YMawx\n",
       "h0Fg7glb8bRmhvgcmGpKLfByVlHiPKMTtpOflpqxRJvXgrfj9t7ztwP/IaTrDOeLVCFbNlXyEXyl\n",
       "3IiXJYb1kXjCfIYntg4eu2oKLSQlvMMy+rPQzbyIng0x1enXIgLMhWACFeK+48oFP+3I1GctvfMq\n",
       "IyjlqlHKL6etYkYy33FK+MPJvznHz0VOyYv41wYY1xKLTxLLaV2KAJan2SrE3xwKIaNt7EWBbVhn\n",
       "s3wRDzfZpuuV1unywUM/WHhg2HA/JoGC94Ag2NDmt9GvmVwar+3o4ruY3qF/1ImoNxk1VAMztJjc\n",
       "Wr64yF0Xv9V0Ot0prixwheCR0W3NreqGxFsGeQBGlJDHiQKo0FmNdYUWvpVcnUyRgeEUvDF3hV+p\n",
       "8RHtZrQCT0lGSul5nf2/o5WYXBLBE75nvwmSvrSK2kM6rOh22C+cKRc2WcWvG4FtP4gAkYz0bvk8\n",
       "+zkPemxraVhOMJxHMQLAPX0iKKX+EddU3yxrNrZa6fEFxxaTtQCfZk8mPYxP2UDCOMVgxqBKSx4u\n",
       "KV3qT3T3gk61BfAkBzm1ZsJbdis1PYvaN0cmyEgYyb/egggLQibmYPqU1+QbBmYVSaKd5K5DU2rp\n",
       "JzAWrygf5YnDi/PHfg1SSHUlRKJqGxQoHM8EDB1xnWp5Hc5ffGTW6YbYJqwIKdpG8RkwJXq785nM\n",
       "rSmFxoE5sqK0odlI3S6sI5yGjGJvF+OQRxaN2Vj+C7I2jiNVzrKWzoiTwXLoCUexqfFIo/etCkBY\n",
       "17aybks2GxbgwwmxfDfAjuKQXibUeC+kIJVovKmlVSccqyEZ7Wa+U+1wp+xcLcyYKxliqHesP1Ks\n",
       "9d3mg1GZd16+UqUCXiJLA2ozhruk3W7RUqGN1Lisa/Cag+Hi+UeSTL2640CMvwUYvvfwMUQJw3oY\n",
       "Lg8TMinXB/kAkZe4F1lpysboy1OFaRJe5YKc4zXYWufJ6zK5f+bmurHNbAeU37Ru+VD+/5Hu7/D8\n",
       "Hvk/NNGnzjfIaKSCfuiqk29qMrkNqgRuJieajjkbSbLPFJqo45wOosLp8cybr/5KNKR2JoOzscEx\n",
       "aMjsMeen78aB5kRf4KM2JvOZ8fLuhZ17aUkBl5F6djZeLkS02HX8PyLipZqWnFK+ToHbHLSUgdQ3\n",
       "Yv1CSD2JV9PK3KOtvNPLW1kI/VnXM6/FfGAtoy50YqbO461puekhMEn4FrUbVk9nnsH5twKZ6zx6\n",
       "tmbXwjbQ8LBARVD0UcLdLJFw6tABsGzLCJ4VNygn/ImvIXbgdWQh61ARNDvCdmVkD6I6gu8FIMDv\n",
       "BWYFrZkjKDtCtTd2t842ZHVWlHzTh/7uNdBgMIW05Jz3Kndox+z8q/g7zTb6LvdJTlwWVU7eOEco\n",
       "7zWg1vgiW9gdKfdu7qI/M5OtEixu8TIhQNJyXTJckh9vo8oatKbLctY3L5+6R/mjXPX5lNuUWBk/\n",
       "sgAnRTh2+AqzWo6+yheiYMhxslDfUCR6fRc0NzQHEjUIUjDWnre9tegRrpEb8m9kGekXz5ozfigj\n",
       "b7i72A1mAbUwCfFbeKxSfm9xp9LkQzsH8UPuIOrBDQRZZFhmIEq/EHiDC9VncSq24eIVStHGCWbm\n",
       "ZEPHxLC2nLPlpWhLE7MtpK40JJbgEyJnYAnFLvItIX+O9Xjb1ftBCxzdbhABxX0ebAlp2sO/QUWM\n",
       "Uy+maM/yV11ZhM3J8lP2InIhMpHRYm41xY7VFUHZxST6ycJkr3/WdFC0lVnhyLpKdn2FT7KT/XDf\n",
       "q5u4m5an2zsbJRQF7T5r3XyOOxF3vj6g3iNitFalt1EVoj2QR/3y/NARmzO1XnxBneUP2O+stzEd\n",
       "dE2JTim77AJTWW3ww/9z3pkNploWmQZ7RwJrRAVeGmyTApta7vfqewiQVqvpKic60kveGESIyzzk\n",
       "I9XswwkXk1n6nGOITfYZKJws6CTkQqspSpGiwB021AGfNHIsZUoyzZoq8qKDGJ1hcbQPgUdpoBzl\n",
       "AKrTQ5uZOtW7eTclwCPVrToN5VgITsS7gGqgBKaJrWEYGiy0IBnF16Irayf2q72rVf8SLQ8ZzNs/\n",
       "D+ZjtrKkKIKz44LixK1kn3SiNh0q08glvWw3aWK3ymGe7oRvJw3GI3OEH7W9i4jku6xvzHWR/dmv\n",
       "ncoMGY8oIOugzpiYYDbDs9f2dKHUOVQ1BhQRJKWu2Hib51QGWSOnO9i7JAdeBjFLyi8k/ZL10O5R\n",
       "Hy5OOxyQFHRSYVjy4A9Y7zliSlImQtWpJqk58UCK08hsgUFgZ9UXKKOSFPfKY8ers969CqZN+Ydl\n",
       "3Hys0eqm7ydfaLYgAXAJrPp/1jDzK9jVBQ9Wkkzu4csuCNn46fwNwR49OXs1YDB+UB23eFUr8zWc\n",
       "6JE9FvNGMo1bMWTdgpg7C8JXv5FebtJzQZE+jPxrdYc0AFIm0XYiaVq246LWEYf//6kT/Cw/Inpf\n",
       "wkvkfHgDNiX2RmwGBdiCEl75j2EAYXkK8bD6k1caM1sAAAnpAAAA10GaJGxBL/61KoAAFcKg6gAm\n",
       "n0JBoOSzcHDLS301t/DlNAuXyDeNE6QOcsHWfHx3+HlnLXKMmBnl5EMRooT+GbqlMfw/5zC3uo0v\n",
       "4iMBUPf+oYdiQLKaOflcyTIRyVK3onV8wlj66G6L6DWGydZwvLOuka6DkUFf5rw0UgM625n5gyi2\n",
       "UViVcmmQCPUfrD5qUXgMOQdDSmkyCNAogm0d9nSunyhsVuWaTy8E/wodE9y04/HUbzy7Z7TfgFt2\n",
       "CnJ0Z536yAjAP/tBECS0BkESrH1t3sHodFhAAAAAjEGeQniCHwAAGvogD1+kEOCAyxfbA0zAnflg\n",
       "AGcbUQaOLaTLboZFljTO3uwAnPqKEcHbhLZX8KoojO2gLM9ZLMY9nd2leWGqoP3z/0wM90DB8RQ7\n",
       "b9J3ZZ1tufZ0WJspK+P4+CbX9Vcoasxxzq+oml3/3lJIe86mVGk31gVrdAyrO20WUvZhwB2P1QPh\n",
       "AAAAiQGeYXRD/wAAO1Xxx5ghOdKh65WK/7C7arwAJ1tVMHe/bCUqNKHXB0c/cEf5PrFKgFtJd4Yg\n",
       "VyJNjATmHGxJQEFJFkqNj+pMTg0vtrh/2SrFM75bR7hl5LhX8xCChTf1vqw3ptNmV7LplC/DDoc3\n",
       "hKQrwIsMEUvcMjB56nUr70F11W4QCnOO3WKWAAAAhQGeY2pD/wAAJ8j7tNFMmifoir7lAcAHEj0i\n",
       "eNIYVdFn7rrC/ZHorrS6Te3MljIwlKuErM/ZEtZ5+gdD6FEY5O/DDYp6Alv99R6rA9Bo3YZ8LHNL\n",
       "puy5zgO2lVZbTcVoEGdVJl0h/+dhEZOJqOVQmo2ratn77qMBKt9HddoaaBdAAL+a2j8AAAAzQZpl\n",
       "SahBaJlMCCX//rUqgAAoJsnMREknWq2f8ngFZriew55gxu/ZIb3ivokJAAADAFtBAAAAMkGahknh\n",
       "ClJlMCCf//61KoAAbzmkEkGb2ut+epq+X672s/nAkMjrdKtOJg811lwjxMvBAAAANUGaqEnhDomU\n",
       "wU0TBP/+tSqAATh6kr6hVnFAG3Cy4sVSlY2FeA3IAZ9rj7v7aL5AAAADAD5hAAAAHAGex2pD/wAD\n",
       "X/I7Rw5E6/iXmfrpzAAAAwAAz4AAAAA0QZrLSeEPJlMCCf/+tSqAATnOSunb11KUcV/8B1SPHcAf\n",
       "yzyAi42WpPHjODkFJAG9E516pAAAABtBnulFETwQ/wABh8bt2oJAdonvCNgAAAMAdMEAAAAWAZ8K\n",
       "akP/AANgGVkF4Zzx1YAAAAMCdgAAAJlBmw5JqEFomUwIJ//+tSqAATn7UN6D1ZF5yyP3+4ucDKAC\n",
       "joWZ1jLBSrX3XbX+Kiw7Vzi97dZF92t74TclmYGrwL7lx/PQGDMK1ebh5ib4fm5tZiJiup/OZMKl\n",
       "T0QtGkn9lNnAhZUqJ19s/BHT0moH4syeUYL99IoiMYlYZ0E/VxW69VOjiHIUarhHhLWsFgo6eQFy\n",
       "AAADAf4AAAAgQZ8sRREsEP8AAYeh9JI0Yn7+majpaYDQlaT/AAADAVcAAAAcAZ9NakP/AAE1aNIo\n",
       "HkKi91RnfbALyAmIAAAKuQAAAI5Bm1JJqEFsmUwIJ//+tSqAAA5PylHewHbBeybmvAW/ZFBBJEAA\n",
       "ElclfelCGUu5GEiCBvBNyAVAk8NB2Fj/ZMfqwnE8YPZOHTnjofRHzRPsigV1tyWiaUH0WrVUxTe5\n",
       "y8fhYSotWR+aB29Ab/r+HiBOTrV3ee9YftjmMU7RyqFDAFBXM/fdzoZW+MRwABzRAAAAi0GfcEUV\n",
       "LBD/AAASVtjAzmFDjbPkHX8PrzPAAuq8r96SEk91XbCh+hg/jvU9dNQ680f161MBcWQa78DHpr+o\n",
       "R8vf/x5DdBjOBQeeJwg0Vv/K1cOf4tTNMFMN7DNMpQOMIYq9Rot4LMh6y03ZjHGkxOrwRSF4zGgp\n",
       "N8ZXtoUiuVl0Ld7ItJe+HZAAr4AAAACLAZ+PdEP/AAAnwtui7YQn+4ttfNnf3rABfNqpkz6vJVWn\n",
       "Q+wyaERf4y/FmdOliHT+zuxHUPDlkhYMqNyh57W84NA5mNrFtth0BOq0oCHfRBr9dmEOx6U4ipLi\n",
       "d+UjIW9voLQMR8AUEXVBGE14lsgVRi7b4ufe2N2EPXfV4vqZV5sbXVot1hohIAADLgAAAIYBn5Fq\n",
       "Q/8AAAMBz8IUIjc6UJ3fdPzvb06gAdeOdyXObUdJ0Sf7JCsrPJ58IF1BE//nkhEx8x6se02T1zS/\n",
       "b9RC0qcoUf5lKMXPUqtlrKo7GArAxe/5ShdYri36TJpj3Zny5vdNpB9RVCxgaxItYAb6lrG3bFYv\n",
       "fV4A1KS/ReEMtqow6ABgwQAAAJNBm5ZJqEFsmUwIJ//+tSqAAAADAs30wHewKXcXRXTNdwyeYJk3\n",
       "aJBpUADwoUzlsueyl3IwkQQN4JvzUcfYtUKdxlCTvAm8ThG12oB665qd+HabgdGNpVHD9ELvaZaE\n",
       "Amjrf9uYLh+F/19oYrvSaTSUcpDfZnA0G+LIAvZhIDwfuA/pcdbspJrT5UAB16tvX/rqMuAAAACR\n",
       "QZ+0RRUsEP8AABJW2RIjfP/t2fz7Zp0QdGmgw63f0AFLeyVoK+E6BcrvosDpDQXkwcvuT/5BIEgF\n",
       "+lq2t6SUBylqdJVzNflHsxzoHq6+BveVBEPnR03TEaBvZ1XQa2DkxxN/TJM2716Y5jMhVtHnbyhP\n",
       "iQWhbznhKTYjE9NzucGGhAEOBW18Rvn79Rfi9mHDVgAAAIsBn9N0Q/8AAAMAB5a9mP1hCf7i2182\n",
       "d/esAF82qmTPq8lVadD7DJoRF/jL8WZ06WIdP7O7EdQ8OWSFgyo3KHntbzg0DmY2sW22HQE6rSgI\n",
       "d9EGv12YQ7HpTiKkuJ35SMhb2+gtAxHwBQRdUEYTXiWyBVGLtvi597Y3YQ9d9Xi+plXmxuEty0tg\n",
       "UApJAAAAiAGf1WpD/wAAAwAAH7whQZp/+wjYzOAEJ2lwx0qV/ZrZuD1TxWTUSdHFc7n/Yxp3ZcWf\n",
       "EOF7pSYizICu3ZczvSouOYGUDaO4SQ4v5A1CVzvwxkUf5yFx+1UIYOjK5jBrHx5WtDHiN0FEmyb/\n",
       "uX3dc5HRoM/qvAZQOUVDBys4Z9EyhsXe85FP0YsAAACtQZvZSahBbJlMCCX//rUqgAAAAwAAiP2N\n",
       "PoO6k+7SUb/siggnWKAE1GyLEziGpP86lNcwHWUSV3PISFy3qUP2Lrcvd16gtDUnWPzKVRBCy/Od\n",
       "OsImooV//wUhzgEJAbr7biREeDf/UuGCRcxxYjcAKbVySNPDSl5IMo9TwhyQz0ufaRRMF2QYodNt\n",
       "Avoc5q8n17YmTyZCBpvPJMCN/NhlRfCBHwjE+XZFUbZ0PSEAAACLQZ/3RRUsEP8AABJW2RIgAK5z\n",
       "e38F19v+iLO9huoAMg3krQV8J0C5XfRYHSGgvJg5fcn/yCQJAL9LVtb0koDlLU6Srma/KPZp1vw4\n",
       "QTghZVLUrxO0cP1m7g01cGOBveHVe9WjpumI9T0KSv6Dc+lBM0a/8LCit1WkphLg87eSjT2C6jgp\n",
       "2E18IVAz3QAAACIBnhhqQ/8AAAMAAAMAhrQrXUg2IHj7XI14Zv+taNDqJr6zAAAAJEGaHUmoQWyZ\n",
       "TAh///6plgAAAwAAAwAxVSFpPpUO/SP0YwFXawAAACJBnjtFFSwQ/wAAElbZEiAAO2J9tJnovCLZ\n",
       "IFSA87MEkvC3AAAAHwGeWnRD/wAAAwAAAwCCrlPBYrF6KPl0YDrRUoRKjucAAAAcAZ5cakP/AAAD\n",
       "AAADAILBs3RfBN+BVRHUovXOkQAABHltb292AAAAbG12aGQAAAAAAAAAAAAAAAAAAAPoAAAXcAAB\n",
       "AAABAAAAAAAAAAAAAAAAAQAAAAAAAAAAAAAAAAAAAAEAAAAAAAAAAAAAAAAAAEAAAAAAAAAAAAAA\n",
       "AAAAAAAAAAAAAAAAAAAAAAAAAAACAAADpHRyYWsAAABcdGtoZAAAAAMAAAAAAAAAAAAAAAEAAAAA\n",
       "AAAXcAAAAAAAAAAAAAAAAAAAAAAAAQAAAAAAAAAAAAAAAAAAAAEAAAAAAAAAAAAAAAAAAEAAAAAC\n",
       "gAAAAeAAAAAAACRlZHRzAAAAHGVsc3QAAAAAAAAAAQAAF3AAABAAAAEAAAAAAxxtZGlhAAAAIG1k\n",
       "aGQAAAAAAAAAAAAAAAAAACgAAADwAFXEAAAAAAAtaGRscgAAAAAAAAAAdmlkZQAAAAAAAAAAAAAA\n",
       "AFZpZGVvSGFuZGxlcgAAAALHbWluZgAAABR2bWhkAAAAAQAAAAAAAAAAAAAAJGRpbmYAAAAcZHJl\n",
       "ZgAAAAAAAAABAAAADHVybCAAAAABAAACh3N0YmwAAAC3c3RzZAAAAAAAAAABAAAAp2F2YzEAAAAA\n",
       "AAAAAQAAAAAAAAAAAAAAAAAAAAACgAHgAEgAAABIAAAAAAAAAAEAAAAAAAAAAAAAAAAAAAAAAAAA\n",
       "AAAAAAAAAAAAAAAAAAAY//8AAAA1YXZjQwFkABb/4QAYZ2QAFqzZQKA9oQAAAwABAAADAAoPFi2W\n",
       "AQAGaOvjyyLA/fj4AAAAABx1dWlka2hA8l8kT8W6OaUbzwMj8wAAAAAAAAAYc3R0cwAAAAAAAAAB\n",
       "AAAAHgAACAAAAAAUc3RzcwAAAAAAAAABAAAAAQAAAOBjdHRzAAAAAAAAABoAAAABAAAQAAAAAAEA\n",
       "ACgAAAAAAQAAEAAAAAABAAAAAAAAAAEAAAgAAAAAAgAAEAAAAAABAAAYAAAAAAEAAAgAAAAAAQAA\n",
       "IAAAAAACAAAIAAAAAAEAACAAAAAAAgAACAAAAAABAAAoAAAAAAEAABAAAAAAAQAAAAAAAAABAAAI\n",
       "AAAAAAEAACgAAAAAAQAAEAAAAAABAAAAAAAAAAEAAAgAAAAAAQAAIAAAAAACAAAIAAAAAAEAACgA\n",
       "AAAAAQAAEAAAAAABAAAAAAAAAAEAAAgAAAAAHHN0c2MAAAAAAAAAAQAAAAEAAAAeAAAAAQAAAIxz\n",
       "dHN6AAAAAAAAAAAAAAAeAAAVVAAAANsAAACQAAAAjQAAAIkAAAA3AAAANgAAADkAAAAgAAAAOAAA\n",
       "AB8AAAAaAAAAnQAAACQAAAAgAAAAkgAAAI8AAACPAAAAigAAAJcAAACVAAAAjwAAAIwAAACxAAAA\n",
       "jwAAACYAAAAoAAAAJgAAACMAAAAgAAAAFHN0Y28AAAAAAAAAAQAAADAAAABhdWR0YQAAAFltZXRh\n",
       "AAAAAAAAACFoZGxyAAAAAAAAAABtZGlyYXBwbAAAAAAAAAAAAAAAACxpbHN0AAAAJKl0b28AAAAc\n",
       "ZGF0YQAAAAEAAAAATGF2ZjYxLjcuMTAw\n",
       "\">\n",
       "  Your browser does not support the video tag.\n",
       "</video>"
      ],
      "text/plain": [
       "<IPython.core.display.HTML object>"
      ]
     },
     "execution_count": 55,
     "metadata": {},
     "output_type": "execute_result"
    }
   ],
   "source": [
    "# Creating animation\n",
    "animation = camera.animate()\n",
    "# Displaying animation\n",
    "HTML(animation.to_html5_video())"
   ]
  },
  {
   "cell_type": "markdown",
   "id": "0d40c4ae-2b79-4d0c-9b21-cf4a04e132bd",
   "metadata": {},
   "source": [
    "Oh no! Our animation is choppy :(<br>\n",
    "The default framerate is pretty slow (~5 frames a second), but luckily we have control over this. ```animate``` passes optional arguments to the ```ArtistAnimation```, so we just need to tell Celluloid what interval we want (the interval is the time between frames in milliseconds, or 1/framerate):"
   ]
  },
  {
   "cell_type": "code",
   "execution_count": 56,
   "id": "53626afb-ae3e-44b5-b5af-f41963bae2a0",
   "metadata": {},
   "outputs": [
    {
     "data": {
      "text/html": [
       "<video width=\"640\" height=\"480\" controls autoplay loop>\n",
       "  <source type=\"video/mp4\" src=\"data:video/mp4;base64,AAAAIGZ0eXBNNFYgAAACAE00ViBpc29taXNvMmF2YzEAAAAIZnJlZQAAGpptZGF0AAACrwYF//+r\n",
       "3EXpvebZSLeWLNgg2SPu73gyNjQgLSBjb3JlIDE2NCByMzA5NSBiYWVlNDAwIC0gSC4yNjQvTVBF\n",
       "Ry00IEFWQyBjb2RlYyAtIENvcHlsZWZ0IDIwMDMtMjAyMiAtIGh0dHA6Ly93d3cudmlkZW9sYW4u\n",
       "b3JnL3gyNjQuaHRtbCAtIG9wdGlvbnM6IGNhYmFjPTEgcmVmPTMgZGVibG9jaz0xOjA6MCBhbmFs\n",
       "eXNlPTB4MzoweDExMyBtZT1oZXggc3VibWU9NyBwc3k9MSBwc3lfcmQ9MS4wMDowLjAwIG1peGVk\n",
       "X3JlZj0xIG1lX3JhbmdlPTE2IGNocm9tYV9tZT0xIHRyZWxsaXM9MSA4eDhkY3Q9MSBjcW09MCBk\n",
       "ZWFkem9uZT0yMSwxMSBmYXN0X3Bza2lwPTEgY2hyb21hX3FwX29mZnNldD0tMiB0aHJlYWRzPTEy\n",
       "IGxvb2thaGVhZF90aHJlYWRzPTIgc2xpY2VkX3RocmVhZHM9MCBucj0wIGRlY2ltYXRlPTEgaW50\n",
       "ZXJsYWNlZD0wIGJsdXJheV9jb21wYXQ9MCBjb25zdHJhaW5lZF9pbnRyYT0wIGJmcmFtZXM9MyBi\n",
       "X3B5cmFtaWQ9MiBiX2FkYXB0PTEgYl9iaWFzPTAgZGlyZWN0PTEgd2VpZ2h0Yj0xIG9wZW5fZ29w\n",
       "PTAgd2VpZ2h0cD0yIGtleWludD0yNTAga2V5aW50X21pbj0yNSBzY2VuZWN1dD00MCBpbnRyYV9y\n",
       "ZWZyZXNoPTAgcmNfbG9va2FoZWFkPTQwIHJjPWNyZiBtYnRyZWU9MSBjcmY9MjMuMCBxY29tcD0w\n",
       "LjYwIHFwbWluPTAgcXBtYXg9NjkgcXBzdGVwPTQgaXBfcmF0aW89MS40MCBhcT0xOjEuMDAAgAAA\n",
       "DuVliIQAN//+9vD+BTY7mNCXEc3onTMfvxW4ujQ3vc4AAAMAAAMAAAMBuaWF/3Z384ggAAADAHbA\n",
       "Fl7fwQkf5k1vrSICh4s6Jm30oWeT5ig8h52N4tmVBSgGqjMrNepje6Cm5KDyNJWWbI1dYWKyW8vb\n",
       "AxyLk5/r14vCDxxpnre8ZEvSe3rBwmsJFvGuZ1KFg0g0PzBzFn2mzefjS2Kjp7Hjtp5/mW4s/2ps\n",
       "1b2StgtF1DOlQ2kSmIQ5K3s5aR9sMTLhyyYj9zEqKMScQKgOlnl4gF9kTy+RufB01sJ01kpUAfod\n",
       "5dbLBhFa7tkH7mmAWjiggiHq5eSoMxc8sej6J2pfDDC/adfD3axFRa8ntPSC8V9ANFCncAn9EUlr\n",
       "FaIyyW0kbtuxxm1lCus/HGSKFuugC5ZbfB0O2eAXCmw1yuoccX7XmLCYo6vniTcC8n8YHq15NhYb\n",
       "uit+ANxpPZqLaqVnYwLJNnRdPva7mMbqQhAAwAHXFCzZXJs4EwCXEbepnazBZJBMhakwov6nP1Pv\n",
       "gW/IG7McOYb8bcrbuN0aFZGPSHxmmL5ud3NjLZYu1UgGdhnhCRyDonH1VON1en0LguG3HooVfl1R\n",
       "CIVfg1z0oDQZCJ9K+zbE0JW7A8XTiRsbTIhvowQkjxqoA76GTv2zWcrId2zSd+Pc4H7Lad5hiAXw\n",
       "BaFYcwNgF+d9Q7hwY6gYGUOXoYK3HP5hqxh+HCaoHooY4QdyRlw+u1M/5DLRnWChBM9dmpcGb7mQ\n",
       "sFVsTyU5fDwuuC8U3AAAAwABjT0TzpzjHYAAAaLX3Eo0/ob29Oa7Q0MghFSlG9q7gi+dfyS1OAq+\n",
       "T7FGehdTD6j6onex1czgH3lqyT2lXsb0JhvYBi9s/dtut6rIt4Bmu/1s+6q5g5qYhTSsob+oYcLT\n",
       "VywV6uXi3+Ckrnhk8ub79twYqPES+wOSKCwDuGyLULDuyRA8oYURnHn5IUFWX9h3K280+HK5S0J0\n",
       "1WUsgE31oYWVSXtJ43OltgAAAwBqUMAa8KxzG0wz06sSxe8rvAZ7COVXDu6hEkdYcwzXFe/Kzb7G\n",
       "jLLgDq1Spoivigp9PGn0CyJh/cGmdSKChzzFv/Wf+lgVVGX0V94lY/zrQcAc7F5NjHbolLVM0fTy\n",
       "iwDl4WcAH+wivjtjy2vX4ErN74BFWU4RIry7c+lBFsrYTdxgfrbyTywn9X3MUI9relSzyanRlI5L\n",
       "lw5ZbztYHMWJZwA3Ak8uQj4bH7NElzyoeP1iWdbXWT/T+tde6fLcEYxvarvpDUp8CTpBZcb19KhY\n",
       "uo9SeL799JVS3KsG/HAU1uDUNZgqv+gqen3PPlil+H9Suv0+/e4YPM/7tbhXpX7Pjn5OGDHgUO12\n",
       "ZIhcUWnUh2oHNhNJDBu2OjR4r348O7ZnT2UOcLIWkptoOcpoBVzwrJDw9UmdFVSdEZHYAAAjgX/r\n",
       "O0O8DU/2dchXhqtbNB2kdXrF3hgLvtkkpMvHPU47vUyUrSbTo//0xdZCy2lCiU1EfqaCi9zOY9WB\n",
       "cP4VwOaEyiKJCw1xlxRo6pBskfAYx1xNd6jj6Hq6HYOOf/XiCbXjDXsA+zmtCIv0lT7eulZBuiU9\n",
       "o+0ZWwUPWHjCOLtgfh/228AoxAVZZ/zujOJCqJv9Spbd6v43742OsnOlE3XlwtHDl02amH1F2c7a\n",
       "wbkdoxb3QHZotwR7hLSt2kJbIGeDVYUrfNYg9At/I/1at3J+4m67H37+F3AipnuBMuIAJ8lTNZRP\n",
       "5eM00awdMmD7lWHjEQ/fTna5hU0F0wj12CmOsaqrHbDrcOMHY0tHH9PC/KGEwBC8YKGkXdbu3QQI\n",
       "NdbcgGYb/eNHgEcIXgWnflKrYtQLiVsZOLgo8J9vm+lLGtB7e89FueRte6EZ5M+S6+DwHQ5OKgQB\n",
       "pqNUER1Lw/MADsgETGhCHHCZJGIFW6MNHGq4r+M9y+Kosp+cNqRW8fszwQiiAw9tTPSCabT6xN57\n",
       "BH1BrafIm8CkmGD4c1iurtakKxRWr/V/f94byIjBSLlvWFfbQzpfLUuAT9jo543UnVEz6k90W5a4\n",
       "UvoqmgzdGg5c4FNIgY+M6zxE+plkdOHSGptzeQWv0WtfYBjI1t3q8plvK9brHGCPhI3wnDiwtM1k\n",
       "07Ejd/DdrNhA9jMLy3+6pUR+uoAO1Egxn3gxKtBK+s0MCquQtDg3PhD/k+2F7VEJmgUeMQOnRlYP\n",
       "Biw/lhHi673l4Fj99efFTNQJg5grAUwYoErNl0qmPN9mHoAa3s3gbUUb3rHEHP0GTBlDSdMCcAU8\n",
       "F09xIbDLAmXvc4/8GS3YXm92Y1mxtgU5mKuyNH8t/R9NoiljjiHTvr56T3QXwLl7M5b/a156699Z\n",
       "xHfc0/Pcbzx74DqS7r3jNDimwieHlUTk/gOvYK99dLLhJORgCV6vM7ChtpaGZpqoEfOXL5KFqBUh\n",
       "l0OuO63VhaekXxIj6ueHaEDk0MYxYBK43BHZsvtoClRg6XPHfgUlP5heFwJNlynhYIpm79j4qNMe\n",
       "5H/kKmc4W8vCIc4SqSbhGAz6mvOHcl2iAkGweCdO+VlggkZTgsuSd92dcfNx1sDLIWJ3KC4arhjm\n",
       "7p8vh3u3TS/WX1P7IEtCSDNjAiNSfITlzLa5hH5g5q/e6SqfSr8qdwwDg/HM79xR3rENN2+1mQAA\n",
       "EbEdiAB2xVMKC3u1M/dKVgr86z/r23eK39539OwjAU45yweUMu7mMl8u3QuBCpaIgKBXA08QB2aH\n",
       "CV2Nd3XjKwCWZgSwUGn2d9j+fz7p1QMKHGzHXdbPxkbFdnsgAYG7zTvMWRLYHtD2s7zN64B2eEV3\n",
       "hcsMwc2awdGPV061t0N1WgE0eynVVPelqNKTFV7Po/1hJdILgcAxgdF2a0ZdJL1GHJhNl0OHX4N/\n",
       "UvISGzVwVnzdRBHWolsYPOLsB67pbQ3RxwafuEL7P2oIcMr+pCFBZ6SVry4/eEYYSOUvXUldfWIV\n",
       "PLgwF3+62rX7SrAZmd5pvpBONlwQ25CJZz/epfTy0ggAnILZrrFQisBCKk6l88FHXBrh76W697k5\n",
       "sO6KG6cVjL49t2U2tM17UtpuRYI5Mh3LHqPVYPPGug3ko4VvhvWVGn1rqWlW4xJMrAWKG/PJ7Lbj\n",
       "FlpZtQBniRlBfPzhSzKk13XW9vZgQrpo3LnCkcq6GCrlCRfYPzUkKgyR/CSmZrTjW+zFi/GpdFsh\n",
       "mRy5jA5sW+t6PgRxmAlTN0oXh9h7cFEIiOqKH/LTRq0l9VDTwh5y5dWO+q8gvTdEfBVgNIFMpKC+\n",
       "oYWEuBFuvOn4i9VVivAuO81ejqoMOb6c0e5KvSry/TUD9tfBAhHnCSHw6Qn/FezTjL6bTfp+la1A\n",
       "AADisjfk7ft5S9WQ91R9aDW8jlGrFZmutPgJxLEt3qCfh2F0U//+ekpGzAdlUooohLGHZ1GgHs+B\n",
       "ly0LWnNbau5CXp5sB0MkokX8fYHExTCrVSRgmaVt8Booz9yCyqM/AE0KnDjEHC6wnbVzo1jXxrip\n",
       "ljZBF0lhgzPma3oX0yfLG0vpMHHq0v0Ls0hxwXigaXxduchvYNPJZxL9atZT72DqX/IqDWSKl5nY\n",
       "uib1zWSrfTLg79LbGULMxG7I97yEqpkoY02zTsK1Ya6qUPcBc0h5TGi0jlfPXuwVxu44fOB4PTR+\n",
       "Yr9K9OPyopukYzmTy2Q52UE6jkHyY9ZGPDI0t4Im/1cHY4PaiL8YSIlaEfvEXX1fYkgVboBCTaPj\n",
       "G/wOZXNCj734y7wXYu6UaI2INWzYkBTpBM+2gjddDYLfcJpzqlAC8AbE2J2lx4lBqB2qtIXEZm0F\n",
       "m6GptCbgzY3LsxFutOUgTG6CxNHjWj92abeUmSd3PrlEocG6QVyELjFdsiVo6ZlJClyzcOKZwVOx\n",
       "fEJr+JaOcjQqjd/RTw7S9LtU7x4mJkLcpchbG4Tazt3jnvODIP43bc8fiVb+LwjLTmA0q+PdIGt8\n",
       "sJ+or2wGagYZheaZZCvbbVDyGG7mfSuCqRQkTdfth/m4aP7LM7u9pvjJg6vGjRvp1yQC5SoalyY0\n",
       "WvrlW9Xpxgw36RCjga5CQa3qpnhE0Pa2XXdlHz6azHqu+Wxs2jz73XHjv9X9f/LtC1aGP18LiDAU\n",
       "QX2BOIvYFFEPRryRhqFnkadIG1Wemew14o6srhdW/GFWP4fwZiqrJSlqqwMtJNToMuKT96QuFyE0\n",
       "rfcEpe1TJuSGKqBeCc2NXWTgXTiytV2dSJdvR1Ruqe1VpdmB0fAletPQqjhUwxBJAdkv4s+Nwb7h\n",
       "L82t0u4+lI90mDueC92k4JXib7NF0I3bGbFQeYWsC549OQW8ocLNZ2s+q10c9J6GGIbw06g+Su/J\n",
       "9MjoID5ZCcrNqO77WQX9N4V+mYpUbsPBmC5Tur3RnbovJUitGln4lN0XMCOI6WPsObJSUOV9kWXr\n",
       "GLMvy6lBCh3Y7Zl43Hkn0Cldo6JfErtAfiM+FQelv2joI0nuYL8y0UaMbiDjahdv7ccFn/Kwxx9D\n",
       "8Y423A/8wI0KH1IstaysWk8kEV4NkYErEcS+I+UzLxK77Ye1iu5PEQokGMIYuza9QwZzendDoh8s\n",
       "1OEeryo7TQXBETFMOkCiRDlxxhivGFVSrjOD+jXIMrlF9XHlw+BWQIwdFBn3nm/C59OTq9jLbBkE\n",
       "eoXREFNZ5kL/vzCzBG2Vrdi7KhKLHBop99rgtd+Ds0Ph5gRB2Bs2FNvldU3+04CGQeMF2+gZ5B8w\n",
       "Qpq0U/2m4lZp6MU/Yr2QBFnPqe+eTlGZyDeILHvrPmWQJHfCI8ktN4kfPfl4yyLNJmQP90JGDB7Y\n",
       "5/VI9X2pqxiIEke6EJ7Qx7QX1+/xVbvnXqk5BaoJQI2qBVxwECqKAykUFAHX0nNPvDxmKn7Q0g+I\n",
       "yMW0qFighkziIctHgNAsicim0tox0A9jjeRulsSzSC81PDKFXWsvm/AYxagjvFea6a/xLT3DhrWZ\n",
       "2jOUmzDOikh8dE5YJzefVdDlBegnRCEoXdQ6GnGti8TgP4ApWePEFGR/yV3zwl7rJC0X71kV9gZf\n",
       "1/L4m3nflsDceVKtpE2rV//P6bOLhrfQwcwzZvaOtPVye6BRbJuwDGQ7fM7Q4Pyx7roABCUAAACw\n",
       "QZokbEM//p4QAM3YnEB9hsPdvVRR5fPNXDYXb9iUx2t1t5IWPWsAAAMAKOjtqeEGDcjvoLbuwNGr\n",
       "E58sDTJU4wyxxTn4iVWDVz0uPFmum5NggOWgEyRvvjHU+rzZf2GTmEy9yp8IgLxqNVZxKxKhrTz1\n",
       "/ztTu4/ymXBLVC1Rd0KINtPVRDWLOWx7FKoZ+Hfz+Ox5RExGUwHqVvmUxP4KIqdvJkueLYp1CtQe\n",
       "a2oAB3QAAACIQZ5CeIV/ABYmWsW4it2vaPOCubybsih6k8ar6hgAAAMAAAMDOJtUywTF8+U5wz3O\n",
       "1JRHNaOyn/5mABoOZEcAUb1QWH10dHtSa4xjNn8MYmoNe1PHa5sK/Gxy4Uk++sNGOJXC7XTG0f9O\n",
       "188e1QbHLBYTSGqivFSIQOrv2vt3dnFx6a+gRtQRsQAAAHYBnmF0Qn8AHE19A+PZ1AlZoAAAAwAC\n",
       "/JtUywTEHEAo9s4bLZXETw+QoAP549MeHVeeRgZaQRrmKGUjwWapBP3Bw2GpVm5kAFmWZc5DLTRA\n",
       "NCCty4VMt4EMX7gqtgn3rUckJlz5EZiiKHeW00WOQFYQhAbneJ2AAAAAcQGeY2pCfwAbp4CZy67a\n",
       "cemXJogAAAMAF67VMsDBMxPEZ6MrixmQAALrX55YpEr9o2IhtqaT/WIIqRhKV6tIZzbeZ1jwYYUf\n",
       "bUQ6RmN1/2ZdFdm2bN0G0t81Vy0Za91GoQD6AI3CD2TqAlv9DAC+mCbhAAAAQkGaZUmoQWiZTAhn\n",
       "//6eEABm6T1KDuQbpZai2K+9gAAAAwO33taMsODWw+iMvCmVEAm3RBVuLwQT369eAD+qiIAN6QAA\n",
       "AC1BmoZJ4QpSZTAhv/6nhAAGvpE/10ujOwbtAITrJ/Fh1EyXjeOnsgQAAAMAJOEAAAAuQZqoSeEO\n",
       "iZTBTRMN//6nhAAS1AG9hdotADbHzXyjxBwbb6K3l1iMHaWAAAAMaQAAAB4BnsdqQn8AE+zCAHhm\n",
       "8Vax/+wyzkjqVw4AACwvTUwAAAAoQZrLSeEPJlMCG//+p4QAEuZkXmU1A6UEDhhJq6a/h47l4KwA\n",
       "AAMDxgAAACFBnulFETwr/wAPM+nQpXV5d1KRR+XslxV6R5gAAzYUf4EAAAAWAZ8KakJ/ABPvNJs/\n",
       "MryZrTAAAAMBBwAAAGhBmw5JqEFomUwIb//+p4QAEu+Rr8PvUuS5Yw/MMXKQAAqYfM5qQbCAVSln\n",
       "8cGFBFx0zw6LvxvrWEGn1I2D9p15zt7XyFiFZTxP1FRjGAn4KvkW28+fE4VSKMUtShlZIM3MIBAA\n",
       "AAMBHwAAACRBnyxFESwr/wAPMBsQWsWSPF13pUA3kKZAT+rAq9AAAjmnRUEAAAAaAZ9NakJ/AAcU\n",
       "GlIPQ+ucnATjZNQp0AAAFtEAAABmQZtSSahBbJlMCG///qeEAADd+yn4Ljjrc6jKXkJIlswf4izE\n",
       "iTMAElJl0n/1e/ZwmwS5ILFFYy+fs/Ojf/uqaeS6S4HMMfX21EOOjXph9uk0Xp840WlSkwNvQN2c\n",
       "60HqW8xfAAO7AAAAaUGfcEUVLCv/AAC1tE9iXKAR6UJ13BM7KOAD+eVQa4CQcGRn0Joo3dQxxEBS\n",
       "kZFjSWZzAK0pN/gtfzqCHmeBSF414e1mPAH5FkCtodEbMT22kI7SAMM/eXdMspWWvLOwZ4m52t+A\n",
       "IsDv5AAAAGABn490Qn8AAOfr6PL9xBljUJhwvcMAF8zm3ePn00LSIOAOydyzppgtkxqyewF4bWGH\n",
       "0HqS7wJRLM1aALq6E34BwBhCw0/Rcv0zmSEwgFPyjI128H7+CJP9qkH55OQAD5gAAABgAZ+RakJ/\n",
       "AAAKyzQNth3mdrhkUxeQAHWdswEnmsMR6DYloED7pX/DZ0qzZpvpqrG7LHeFcvjlFwdtYbHiWl7A\n",
       "vehQ3ig+nHM/EGZlZVZJtgQ1EBAQxJDlXe0Ptb5JAAzJAAAAZ0GblkmoQWyZTAhn//6eEAAAAwCo\n",
       "+79YNiFPGuEltMU5J8L3Cp2ACJpklq6UCv+Y05CzSgO/Kp7jfPtlDDvLVEDPNr8fNhni5bwEejCW\n",
       "UrRWX56C+bE16CuwvXFoWRseikr7SzyX0XEAAABlQZ+0RRUsK/8AAGcsMesFZfYVpk16SrdWQ4bN\n",
       "AHq4gAZu69GGz6aT6egmdOK7Hc4BPA+r7dyhSKbTM3KQIb/92aWiB8vjeI6e4zGn49djB7MTgbb0\n",
       "4Jtj4YZAWcftC3Gl5YsZR/kAAABfAZ/TdEJ/AAADAC1op5dHAgMsahMOF7hgAvmc27x8+mhaRBwB\n",
       "2TuWdNMFsmNWT2AvDaww+g9SXeBKJZmrQBdXQm/AOAMIWGn6Ll+mcyQmEAp+UZGu3g/fwRJ/tUgT\n",
       "Ad0AAABkAZ/VakJ/AAADAAILFQNth3mdriJCJJgAbQU+MxAx1YvwQl5irSRHkQjkCrDN+k1pO6m3\n",
       "gp2CqO5ub9O4/d5tPCwXqem1hTvcoYZQT863nTwwyeRxo7iGQ9lrHsgvrroKqzs44AAAAHxBm9lJ\n",
       "qEFsmUwIZ//+nhAAAAMAAB/fY7nTQRt/Gg9TXJaD8JVdYxAACEc7TYK43mqjUpJuBLiAcpFOpscb\n",
       "XkyDekN7UvmR6JDOTlM960t7IyJr3S+3rOKk8vfk/SdUS+nT6CtdRdGx8dm8jZkw1H7Gi6hYh47G\n",
       "K/BTTRphAAAAaUGf90UVLCv/AABnLDHqYi6BFr9MMZ6ZLoyuLGHHABSs70YbPppPp6CZ04rsdzgE\n",
       "8D6vt3KFIptbzvQIS/kc0bawzb7BuraNrYyR6TIuQwo65nflrjEKK4QyM/omkDTV918Cfy97jQBj\n",
       "oQAAACcBnhhqQn8AAAMAAAMDOCZBtwSP3Um9x4n+7wDoZ8BXvukrxchlDbQAAAAhQZodSahBbJlM\n",
       "CE///fEAAAMAAAMADiBcRjN1mtLaeYmbAAAAIkGeO0UVLCv/AABnLDHqYi6BEE+9DcGc9mDbuV7R\n",
       "u6tULyAAAAAcAZ5adEJ/AAADAAADAGcSzkbIE6ugshf+aBVLgQAAABoBnlxqQn8AAAMAAAMAZx4y\n",
       "ilKzqJuifHOrQQAABHltb292AAAAbG12aGQAAAAAAAAAAAAAAAAAAAPoAAAD6AABAAABAAAAAAAA\n",
       "AAAAAAAAAQAAAAAAAAAAAAAAAAAAAAEAAAAAAAAAAAAAAAAAAEAAAAAAAAAAAAAAAAAAAAAAAAAA\n",
       "AAAAAAAAAAAAAAACAAADpHRyYWsAAABcdGtoZAAAAAMAAAAAAAAAAAAAAAEAAAAAAAAD6AAAAAAA\n",
       "AAAAAAAAAAAAAAAAAQAAAAAAAAAAAAAAAAAAAAEAAAAAAAAAAAAAAAAAAEAAAAACgAAAAeAAAAAA\n",
       "ACRlZHRzAAAAHGVsc3QAAAAAAAAAAQAAA+gAAAQAAAEAAAAAAxxtZGlhAAAAIG1kaGQAAAAAAAAA\n",
       "AAAAAAAAADwAAAA8AFXEAAAAAAAtaGRscgAAAAAAAAAAdmlkZQAAAAAAAAAAAAAAAFZpZGVvSGFu\n",
       "ZGxlcgAAAALHbWluZgAAABR2bWhkAAAAAQAAAAAAAAAAAAAAJGRpbmYAAAAcZHJlZgAAAAAAAAAB\n",
       "AAAADHVybCAAAAABAAACh3N0YmwAAAC3c3RzZAAAAAAAAAABAAAAp2F2YzEAAAAAAAAAAQAAAAAA\n",
       "AAAAAAAAAAAAAAACgAHgAEgAAABIAAAAAAAAAAEAAAAAAAAAAAAAAAAAAAAAAAAAAAAAAAAAAAAA\n",
       "AAAAAAAY//8AAAA1YXZjQwFkAB7/4QAYZ2QAHqzZQKA9oQAAAwABAAADADwPFi2WAQAGaOvjyyLA\n",
       "/fj4AAAAABx1dWlka2hA8l8kT8W6OaUbzwMj8wAAAAAAAAAYc3R0cwAAAAAAAAABAAAAHgAAAgAA\n",
       "AAAUc3RzcwAAAAAAAAABAAAAAQAAAOBjdHRzAAAAAAAAABoAAAABAAAEAAAAAAEAAAoAAAAAAQAA\n",
       "BAAAAAABAAAAAAAAAAEAAAIAAAAAAgAABAAAAAABAAAGAAAAAAEAAAIAAAAAAQAACAAAAAACAAAC\n",
       "AAAAAAEAAAgAAAAAAgAAAgAAAAABAAAKAAAAAAEAAAQAAAAAAQAAAAAAAAABAAACAAAAAAEAAAoA\n",
       "AAAAAQAABAAAAAABAAAAAAAAAAEAAAIAAAAAAQAACAAAAAACAAACAAAAAAEAAAoAAAAAAQAABAAA\n",
       "AAABAAAAAAAAAAEAAAIAAAAAHHN0c2MAAAAAAAAAAQAAAAEAAAAeAAAAAQAAAIxzdHN6AAAAAAAA\n",
       "AAAAAAAeAAARnAAAALQAAACMAAAAegAAAHUAAABGAAAAMQAAADIAAAAiAAAALAAAACUAAAAaAAAA\n",
       "bAAAACgAAAAeAAAAagAAAG0AAABkAAAAZAAAAGsAAABpAAAAYwAAAGgAAACAAAAAbQAAACsAAAAl\n",
       "AAAAJgAAACAAAAAeAAAAFHN0Y28AAAAAAAAAAQAAADAAAABhdWR0YQAAAFltZXRhAAAAAAAAACFo\n",
       "ZGxyAAAAAAAAAABtZGlyYXBwbAAAAAAAAAAAAAAAACxpbHN0AAAAJKl0b28AAAAcZGF0YQAAAAEA\n",
       "AAAATGF2ZjYxLjcuMTAw\n",
       "\">\n",
       "  Your browser does not support the video tag.\n",
       "</video>"
      ],
      "text/plain": [
       "<IPython.core.display.HTML object>"
      ]
     },
     "execution_count": 56,
     "metadata": {},
     "output_type": "execute_result"
    }
   ],
   "source": [
    "animation = camera.animate(interval=(1/30*1000))\n",
    "HTML(animation.to_html5_video())"
   ]
  },
  {
   "cell_type": "code",
   "execution_count": null,
   "id": "69ff705c-4fa1-45c6-b3b1-846ab748d2dc",
   "metadata": {},
   "outputs": [],
   "source": []
  },
  {
   "cell_type": "code",
   "execution_count": null,
   "id": "dd3334c8-faa7-4472-a7af-6b8f57db4f39",
   "metadata": {},
   "outputs": [],
   "source": []
  }
 ],
 "metadata": {
  "kernelspec": {
   "display_name": "Python 3 (ipykernel)",
   "language": "python",
   "name": "python3"
  },
  "language_info": {
   "codemirror_mode": {
    "name": "ipython",
    "version": 3
   },
   "file_extension": ".py",
   "mimetype": "text/x-python",
   "name": "python",
   "nbconvert_exporter": "python",
   "pygments_lexer": "ipython3",
   "version": "3.13.0"
  }
 },
 "nbformat": 4,
 "nbformat_minor": 5
}
