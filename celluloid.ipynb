{
 "cells": [
  {
   "cell_type": "markdown",
   "id": "886d24c5-346c-4717-a635-0e554177eca3",
   "metadata": {},
   "source": [
    "<b><font size=20, color='#A020F0'>Celluloid</font></b>"
   ]
  },
  {
   "cell_type": "markdown",
   "id": "7e44a7da-72ff-4387-854b-b0b39ee52561",
   "metadata": {},
   "source": [
    "Matt Oehler and Prem Rao<br>\n",
    "10/23/2024"
   ]
  },
  {
   "cell_type": "markdown",
   "id": "98b1b91e-5c49-454b-84c2-822f4419c513",
   "metadata": {},
   "source": [
    "#### <span style=\"color:green\">Learning Goals</span>\n",
    "By the end of this notebook you will\n",
    "1. Understand how ```celluloid``` works\n",
    "2. Create fun and interesting animations!"
   ]
  },
  {
   "cell_type": "markdown",
   "id": "912c5320-74c9-4929-b7aa-168379856f9f",
   "metadata": {},
   "source": [
    "#### Resources\n",
    "Documentation<br>\n",
    "[celluloid](https://pypi.org/project/celluloid/)<br>\n",
    "[matplotlib ArtistAnimation](https://matplotlib.org/stable/api/_as_gen/matplotlib.animation.ArtistAnimation.html)"
   ]
  },
  {
   "cell_type": "markdown",
   "id": "97a0a4e8-df95-4089-8329-d13de018a6f0",
   "metadata": {},
   "source": [
    "# About Celluloid"
   ]
  },
  {
   "cell_type": "markdown",
   "id": "4f5df37e-b72d-41f3-af7c-a6bcdcfcf10e",
   "metadata": {},
   "source": [
    "```celluloid``` is an extremely small module, written in 50 lines of code! It is designed to make creating animations using ```matplotlib``` quick and easy, so all the complexity of your code is contained within your plotting. The ```Camera``` object is the only object within ```celluloid```, so we will just import it directly:"
   ]
  },
  {
   "cell_type": "code",
   "execution_count": 4,
   "id": "71761f1f-8daf-45a9-acbc-0e73ee1c9d3b",
   "metadata": {},
   "outputs": [],
   "source": [
    "# Importing celluloid\n",
    "from celluloid import Camera"
   ]
  },
  {
   "cell_type": "markdown",
   "id": "e068c063-0559-43d3-8f39-9239b34b4eb8",
   "metadata": {},
   "source": [
    "Also, importing some other useful libraries:"
   ]
  },
  {
   "cell_type": "code",
   "execution_count": 5,
   "id": "5c8bd426-5ee2-469d-bfde-5a9539bde225",
   "metadata": {},
   "outputs": [],
   "source": [
    "# For plotting\n",
    "import matplotlib.pyplot as plt\n",
    "\n",
    "# Always use numpy\n",
    "import numpy as np\n",
    "\n",
    "# Other libraries\n",
    "# LIBRARIES FOR MATT! (DELETE THIS B4 PRESENTATION)"
   ]
  },
  {
   "cell_type": "markdown",
   "id": "a33f319e-de8d-4edf-8273-c7b3dfacf0c5",
   "metadata": {},
   "source": [
    "### 1. Setting up the Camera"
   ]
  },
  {
   "cell_type": "markdown",
   "id": "7d4e4900-73f4-4ab5-8e9a-aa60b98564c2",
   "metadata": {},
   "source": [
    "The 'camera' points at a figure we give it. The camera can take 'pictures', which will become the frames of our animation! To create a camera, we first need to create a figure:"
   ]
  },
  {
   "cell_type": "code",
   "execution_count": 9,
   "id": "cee49eb7-c7db-4df4-85ea-dcafbf0437e4",
   "metadata": {},
   "outputs": [
    {
     "data": {
      "text/plain": [
       "<Figure size 640x480 with 0 Axes>"
      ]
     },
     "metadata": {},
     "output_type": "display_data"
    }
   ],
   "source": [
    "# Creating a figure\n",
    "fig = plt.figure()\n",
    "\n",
    "# Giving figure to our camera\n",
    "camera = Camera(fig)"
   ]
  },
  {
   "cell_type": "code",
   "execution_count": null,
   "id": "e717702b-68b4-480e-a1df-20b3e0bf47c9",
   "metadata": {},
   "outputs": [],
   "source": []
  }
 ],
 "metadata": {
  "kernelspec": {
   "display_name": "Python 3 (ipykernel)",
   "language": "python",
   "name": "python3"
  },
  "language_info": {
   "codemirror_mode": {
    "name": "ipython",
    "version": 3
   },
   "file_extension": ".py",
   "mimetype": "text/x-python",
   "name": "python",
   "nbconvert_exporter": "python",
   "pygments_lexer": "ipython3",
   "version": "3.13.0"
  }
 },
 "nbformat": 4,
 "nbformat_minor": 5
}
