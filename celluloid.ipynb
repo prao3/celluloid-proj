{
 "cells": [
  {
   "cell_type": "markdown",
   "id": "886d24c5-346c-4717-a635-0e554177eca3",
   "metadata": {},
   "source": [
    "<b><font size=20, color='#A020F0'>Celluloid</font></b>"
   ]
  },
  {
   "cell_type": "markdown",
   "id": "7e44a7da-72ff-4387-854b-b0b39ee52561",
   "metadata": {},
   "source": [
    "Matt Oehler and Prem Rao<br>\n",
    "10/23/2024"
   ]
  },
  {
   "cell_type": "markdown",
   "id": "98b1b91e-5c49-454b-84c2-822f4419c513",
   "metadata": {},
   "source": [
    "#### <span style=\"color:green\">Learning Goals</span>\n",
    "By the end of this notebook you will\n",
    "1. Understand how ```celluloid``` works\n",
    "2. Create fun and interesting animations!"
   ]
  },
  {
   "cell_type": "markdown",
   "id": "912c5320-74c9-4929-b7aa-168379856f9f",
   "metadata": {},
   "source": [
    "#### Resources\n",
    "Documentation<br>\n",
    "[celluloid](https://pypi.org/project/celluloid/)<br>\n",
    "[matplotlib ArtistAnimation](https://matplotlib.org/stable/api/_as_gen/matplotlib.animation.ArtistAnimation.html)"
   ]
  },
  {
   "cell_type": "markdown",
   "id": "97a0a4e8-df95-4089-8329-d13de018a6f0",
   "metadata": {},
   "source": [
    "# About Celluloid"
   ]
  },
  {
   "cell_type": "markdown",
   "id": "4f5df37e-b72d-41f3-af7c-a6bcdcfcf10e",
   "metadata": {},
   "source": [
    "```celluloid``` is an extremely small module, written in 50 lines of code! It is designed to make creating animations using ```matplotlib``` quick and easy, so all the complexity of your code is contained within your plotting. The ```Camera``` object is the only object within ```celluloid```, so we will just import it directly:"
   ]
  },
  {
   "cell_type": "code",
   "execution_count": 4,
   "id": "71761f1f-8daf-45a9-acbc-0e73ee1c9d3b",
   "metadata": {},
   "outputs": [],
   "source": [
    "# Importing celluloid\n",
    "from celluloid import Camera"
   ]
  },
  {
   "cell_type": "markdown",
   "id": "e068c063-0559-43d3-8f39-9239b34b4eb8",
   "metadata": {},
   "source": [
    "Also, importing some other useful libraries:"
   ]
  },
  {
   "cell_type": "code",
   "execution_count": 36,
   "id": "5c8bd426-5ee2-469d-bfde-5a9539bde225",
   "metadata": {},
   "outputs": [],
   "source": [
    "# For plotting\n",
    "import matplotlib.pyplot as plt\n",
    "\n",
    "# Always use numpy\n",
    "import numpy as np\n",
    "\n",
    "# For showing animation in the notebook\n",
    "from IPython.display import HTML\n",
    "\n",
    "# Other libraries\n",
    "# LIBRARIES FOR MATT! (DELETE THIS B4 PRESENTATION)"
   ]
  },
  {
   "cell_type": "markdown",
   "id": "a33f319e-de8d-4edf-8273-c7b3dfacf0c5",
   "metadata": {},
   "source": [
    "### 1. Setting up the Camera"
   ]
  },
  {
   "cell_type": "markdown",
   "id": "7d4e4900-73f4-4ab5-8e9a-aa60b98564c2",
   "metadata": {},
   "source": [
    "The 'camera' points at a figure we give it. The camera can take 'pictures', which will become the frames of our animation! To create a camera, we first need to create a figure:"
   ]
  },
  {
   "cell_type": "code",
   "execution_count": 74,
   "id": "cee49eb7-c7db-4df4-85ea-dcafbf0437e4",
   "metadata": {},
   "outputs": [
    {
     "data": {
      "text/plain": [
       "<Figure size 640x480 with 0 Axes>"
      ]
     },
     "metadata": {},
     "output_type": "display_data"
    }
   ],
   "source": [
    "# Creating a figure\n",
    "fig = plt.figure()\n",
    "\n",
    "# Giving figure to our camera\n",
    "camera = Camera(fig)"
   ]
  },
  {
   "cell_type": "markdown",
   "id": "b9e8f6f4-e4bd-43fa-81e2-08a3b18d1b5a",
   "metadata": {},
   "source": [
    "### 2. Capturing a frame"
   ]
  },
  {
   "cell_type": "markdown",
   "id": "faf6e882-a891-46e7-915f-1a2eb3511802",
   "metadata": {},
   "source": [
    "Now we need to plot something! We can capture a frame of our animation using the ```snap``` method. Building up a series of frames will create our animation!<br>\n",
    "For this example, let's animate a point, moving up and down:"
   ]
  },
  {
   "cell_type": "code",
   "execution_count": 75,
   "id": "0fb0f51e-a178-4b05-9bc4-1d6a09d57528",
   "metadata": {},
   "outputs": [],
   "source": [
    "# First, creating an axis to plot on\n",
    "ax = fig.add_subplot(111)"
   ]
  },
  {
   "cell_type": "code",
   "execution_count": 77,
   "id": "cae84a9d-4764-481a-a7e1-e17332c91494",
   "metadata": {},
   "outputs": [],
   "source": [
    "# The number of frames our animation will have\n",
    "frames = 30\n",
    "\n",
    "# Creating a range of time values\n",
    "times = np.linspace(0, 10*np.pi, frames)[:-1]\n",
    "\n",
    "# For each t in times, plot a point at sin(t) and take a picture\n",
    "for t in times:\n",
    "    # Plotting\n",
    "    ax.scatter(0, np.sin(0.2*t), c='k', s=100)\n",
    "    # Capturing image!\n",
    "    camera.snap()"
   ]
  },
  {
   "cell_type": "markdown",
   "id": "f1a2cddc-da2c-45eb-935c-218bc58dc6eb",
   "metadata": {},
   "source": [
    "### 3. Animating"
   ]
  },
  {
   "cell_type": "markdown",
   "id": "422d997b-9a18-4fc2-b416-6fad223a3784",
   "metadata": {},
   "source": [
    "To animate, we just need to call the ```animate``` function. This returns an ```ArtistAnimation``` object from ```pyplot```! \n",
    "\n",
    "We can save the animation using the ```save``` method from ```ArtistAnimation```, or we can display the animation in a jupyter notebook using ```to_html5_video``` and ```IPython.display```'s ```HTML``` method, which we imported earlier:"
   ]
  },
  {
   "cell_type": "code",
   "execution_count": 78,
   "id": "01929d88-9d52-4f7c-ba8b-3dcc2f8081e0",
   "metadata": {},
   "outputs": [
    {
     "data": {
      "text/html": [
       "<video width=\"640\" height=\"480\" controls autoplay loop>\n",
       "  <source type=\"video/mp4\" src=\"data:video/mp4;base64,AAAAIGZ0eXBNNFYgAAACAE00ViBpc29taXNvMmF2YzEAAAAIZnJlZQAAINdtZGF0AAACrgYF//+q\n",
       "3EXpvebZSLeWLNgg2SPu73gyNjQgLSBjb3JlIDE2NCByMzA5NSBiYWVlNDAwIC0gSC4yNjQvTVBF\n",
       "Ry00IEFWQyBjb2RlYyAtIENvcHlsZWZ0IDIwMDMtMjAyMiAtIGh0dHA6Ly93d3cudmlkZW9sYW4u\n",
       "b3JnL3gyNjQuaHRtbCAtIG9wdGlvbnM6IGNhYmFjPTEgcmVmPTMgZGVibG9jaz0xOjA6MCBhbmFs\n",
       "eXNlPTB4MzoweDExMyBtZT1oZXggc3VibWU9NyBwc3k9MSBwc3lfcmQ9MS4wMDowLjAwIG1peGVk\n",
       "X3JlZj0xIG1lX3JhbmdlPTE2IGNocm9tYV9tZT0xIHRyZWxsaXM9MSA4eDhkY3Q9MSBjcW09MCBk\n",
       "ZWFkem9uZT0yMSwxMSBmYXN0X3Bza2lwPTEgY2hyb21hX3FwX29mZnNldD0tMiB0aHJlYWRzPTEy\n",
       "IGxvb2thaGVhZF90aHJlYWRzPTIgc2xpY2VkX3RocmVhZHM9MCBucj0wIGRlY2ltYXRlPTEgaW50\n",
       "ZXJsYWNlZD0wIGJsdXJheV9jb21wYXQ9MCBjb25zdHJhaW5lZF9pbnRyYT0wIGJmcmFtZXM9MyBi\n",
       "X3B5cmFtaWQ9MiBiX2FkYXB0PTEgYl9iaWFzPTAgZGlyZWN0PTEgd2VpZ2h0Yj0xIG9wZW5fZ29w\n",
       "PTAgd2VpZ2h0cD0yIGtleWludD0yNTAga2V5aW50X21pbj01IHNjZW5lY3V0PTQwIGludHJhX3Jl\n",
       "ZnJlc2g9MCByY19sb29rYWhlYWQ9NDAgcmM9Y3JmIG1idHJlZT0xIGNyZj0yMy4wIHFjb21wPTAu\n",
       "NjAgcXBtaW49MCBxcG1heD02OSBxcHN0ZXA9NCBpcF9yYXRpbz0xLjQwIGFxPTE6MS4wMACAAAAS\n",
       "iGWIhAAT//73sY+BTcgADZc6inof4RWx9JBRerHZoGTqAAADAAADAAADAigXteKQMJledeAAABkw\n",
       "A10I/wZ8n5k4gHLRg+C8awxLi0ifWCA1OWyK6xY3dJDNVEePjyOK6c7iYJTcPt10U1FgCP4YD42z\n",
       "TVB2/l5Y7aPgBvO5fd1mhNgOb5mP5pMAkUhfYhPkCCmE+FsSgRrKGqz5/I0R8OxjUoQuymPnMN2m\n",
       "YAYW1OeO/7ULHm8E2zhG4W5awQEIr2hXRRPZ61+HrfA+NkIr0biboMoEHEruwJlpXpwS2Hgg8yZ/\n",
       "kLU4d0eTVcBOEXuMiiGwkLGair/f1fWiOu5SbtkmkQYiW6k1BhxtQXjau4XO25EqjJt5Tk2RSkKh\n",
       "722gk2F6gjyY77ElwOOfKo0WpVxA0LjVY5z3BgA8MumIJUbbSjtvicdEx3kLQMjuTUvbGwjaqPpl\n",
       "eewOH478TBGWGc6lTQdp37OQmlDf48SLHqgVKhRwQVHbcjzuEetr75KGbk58HqunAe2P7P5Pl+aQ\n",
       "3+2FhM04x9osJoOK6FiLI7IMO44Z9k/66sKfgG7sQ39QhAY6K5EW5a/1C7uMptxpYjJdQZgKdpdF\n",
       "snjCaRmT1eqCMN5LIrJHKbk948ZXiR7RG7pKqxae6JzdFvtmtKYxafBjE9WrZu3FLWkgJr53cSij\n",
       "5sGLtdKmFHtmMWFvQt85RIe7vnvaTsB9NXeA4GyIkFOmajAcGLVTv95bzWGQrPzaUd4tthyU/x2u\n",
       "5+4ueP/+/VBpcQy65HVXyvUQ1r/XnkFNEHc6jilIpn603RIpuURALmIYXq2vHsEVHxdqTbGPq0eN\n",
       "UHw7Rd1WyMPCU2JlX9rieXhmppjLWhAeZ+LLlzLrNdtJ8wH3oNf6DvRkd4vuiVqw+yWke+zc934A\n",
       "Rv1cObdhGi/isdLGAsp4abUhi9JoWvIcr7XQKoUxDKMnJ7y0QMmDsq7c25SxDmGoLK4l4hQH8Ybo\n",
       "mwq55W9K9UzxDsv7Zu8voleaLPQOjBJstTv++yOi/AvXzCEHkc13jGQBs+5UPXFKcPndsuLBEWZ2\n",
       "w9csdgPWPmhG74yy46IjlAf+PMmnd3LuMjjvGKS8T1u+RfY8hOoKXkzxmpB37c5rWrIf1EVekJtd\n",
       "SxxmUztLJfPyY8TOxg1DD47kFRUvBQnWpDogUfpENMIMW6DP4ejKEZrdx7Zl8BiUB7rSw5mquABu\n",
       "NqkXs5XapdAqbUN6D5PhqRlsxsvI8soxXkS2+F8M0j68FFLY/aY5BslLACtQVBv+Jyq48vaAfAc4\n",
       "scvOzg9nwdXDsQjy7+pm6BNV+2hc2nnqGDDnRLcbabe6HNXKJQyok57NMzwRTjcCgfq9qxXfrFln\n",
       "KbkWh+Q8Gse+iCIjd/o90iYRx5GyH3kSaSprTIwWiRq89wpTS87qAs3RAExWdmBe20Kd9kHYUNiE\n",
       "4GH5xwWm6Z76IHOecRePpBImupTQzWtJATYEpD10TxWYOt0qYTxH/9mUHNkFGPzjV0IlXwgew6si\n",
       "tMhMYxlCEdm3OC4yI4RDs8uFWm/uueXLJgB4xBktw/ZlpEnEwH/j68JxMx3lwDb5xzvQUOqgU5mx\n",
       "hZvzh+fvvWb5TxDseGhFzUjJpCrQpAMN7XgzpA1LR9HvP1NVHIa84/UQc9SRu3hBLYSCfuSPldZK\n",
       "7ihkqz1xOB3Fl4Khv7Ue/5lvCR1eZ7J97Cz+vJW5UU7rPD9eK3VlKODLqY/C0h85Q8ERg8DNFbym\n",
       "8r2aDNmEyQUKuAD1wWafR2z8ppY2BbWDzfzxeD+8S7Dw3MIEXnEGVJ3myxz1X2py2+7blmPAxwaq\n",
       "bWQLrFpmwZrthAsPPZMtU7aVJtkAZq3RoeGb1R0MHU611XZ12Wua7A5v5uIE7liT6zMiKBVMrnQq\n",
       "8HKNnVG21wOOjfFBNTkWb8P08loLFwExoLO+NU2xBlj+0K/Ryulj9u4f3qCTrUF3RGqb1o6NJ9O9\n",
       "V4svYrKo9v2LcnMTzdp9QIR5TToZZs2WCI7sZnQRRvIf6kQejdXh9e84+0iuoBiJEE/oX6up1UPR\n",
       "KLcfX3j01BWwtY58an90p7nBUKE8bxXja7b60VeDDz20IuhSbmWeVCWchBA6/+YFulMjhjccSy4z\n",
       "tCVEGyxbdoToe3aEflttKO3CAc8OoMF5D9R810qVnO95TGwagcm37c4uU9qSfbi6+kUZudA4U0Kc\n",
       "uCj7UMqbIy+S4p7AuqvO7MpF0CijbKXDJqe0vNDiNlBlr8JS33AKX/gF/E9/ueR97UVW7yj/fSgy\n",
       "FCE6WbB8vh/Rngy3J044uFaNr+ag6JvOQjKfKL05br+3ktuhh4GgZppwAsHc/N0dQQAEJC3gRZwo\n",
       "zqOCdZs2KvP+d2aU0hV8YRdzpGBcrI7k93bsPfPt4a7qW7yNRwDJUp2Z+vslO087dLsJj9xbvYu7\n",
       "flmn7kSdTc+N1YbWTlaqbu/Jz//OTSy/4aK1XtrWhlsLb4rZhJWbhx5Nftfh6iRLkTlJ0440pymn\n",
       "XK2hAku7P9d6L5DKDCFAji83MP+YgvBDBbsbQ+nTfXNmRF+V+P23aC3SOK2gl90yAJjMhmSi7TPb\n",
       "hkv055ReC4qjfFZ0+uV/1P+NT+v19BbBhpRAzNrY+HemCQ/pwB7LziCNcSpnktSSeAR4AZ3EWxNf\n",
       "GmrbBr16S9NllfXhj4nwQjAJmwgG/dBPakOtX0AweKjfe4u7bz2vMGRjow8yu7WaW1N4YYlc3LKJ\n",
       "Yn03/zugWPaYsjQMRraSVVzgejeqW9a8/3kTxvAA6Rkxu6KQtUsn9NLYyvvn0u9xwAAAKUdX/OmB\n",
       "+v3GKJeKNuJpkWBn0FFVPugD2St7MYumASn6Oor3T8jLNNWF1l4OmUdLxL/govrcq8ubz2oR8sc7\n",
       "koOq4E31QJ/TLZnvKtPVup0nqUBC9nXbleaGY5N2+sItWBd5bvlrh7CYi1t7Vol3van2kyzUiv4N\n",
       "0M+gTjjHNQwPPnqRvOXt0mj726CCUbt9HJWDgeyddwhqlfOKVyE+S2il1oCovWCrFqgQlZYNsRjQ\n",
       "1wOdIbm0LTNK3V/F96esgRy93gEv3VX0e+kS9Yl1giHNRAE6HfICnRtcPO1mE+UBMDJpJrqbJ/QB\n",
       "1OQ7s5Uz8mW4sBk2xTI9Eyk/oulVPFSCpb7k+G2PfxLefU/yAS4+1hxCCgr75aniZJtCaHfuhOMP\n",
       "bpFLu4T6PHf7u9vyxEu/+VkyU0/okZoEMTw8Qbfw5MynGgyi9a375fZjyNvXL/6w60amAAADAUwZ\n",
       "QWGcyZ+aHzP0X46KafKJFY1GBTc4ulaqTTyryVd9EodBzjD6KsPgEEl5cOITroin5IhpYdoBNgCk\n",
       "L9BU8twWxxex0g4zf6WgAwrsIrdKWSzckskDNU4cQ+ckm9dgozzs1n2ANNt+V0bMGXkyFbKVntd1\n",
       "/YiieYsMC9wTNVqwVaOBbNbTSXZZZ0NWhBzVFwB+uGZohHHXti8Z6p90+34ZvwV6flaVDfo9NmR2\n",
       "oZYiOBJ/GUIW8L1E5WnumMaONwWMjfL1NA/O+o7HacV6NzuABw5vHpuUiUSgwHJTUwNgTu2gVqGA\n",
       "zlcLHrEJDBVdZ8fLPLdE5tVOGn9+7eOAu87UAMyMbIn1A42VJcx+qfWlImoyNOZIUQTMK/W3ItkL\n",
       "ALeVgRhpBBU5hN1yarKCQ6UROp+1lMlKq907bACYmJ1m1fiseuKALZorO0QjtJBesrmaLQFjSMS0\n",
       "wb0zdNNWDAqvbVaZZPPgCd/UbgebxBlEYrAYWbbiTqoczsbFXo495Y+Ot/sNon95Vz5KfrqW8t8h\n",
       "+qGiwRILWt2QolOsnqg1TVjX0KA9Zs64yNKDD96UHRN0dLotnKnXALWJf3LfR4jC/w9Yao4KmoU2\n",
       "8qG5zDpNvtWMKT4f2g5SyjU1buLYKVa8HSIQ2DstUT5BSWkzjesi8XQavie2Dh67agnyUOMIhFYK\n",
       "FeK5pL+9RmOr065EBZkKwASixX3HlAp/25GozkyaZuRklyuZcl1UjO4NbnPdueK9p4xUbH7yp2So\n",
       "m5JDDGuJRaeJZaufEoBd+R4Evdpdzkisx/eiGLgzfFDjFRQqjilcgvi1PrwkrktiJvCL10IRKSB8\n",
       "AG2ATwZLzso4fdOPDgVNDkQxdnpO6UFhoI0UVLxDa5jlhh+552/GN/FvmtnD3Dnf95pj9E0q11Xh\n",
       "0y0PI5rAmVj5UT5MJRxuQQlOfbfDAjmJ0p6v9dz+tFO0uCzRQVJVUmFwo/D055Icf3+zk75iC1Yt\n",
       "wDFx9aOdBizGlaOZnGfHFXylLe1S3AtnO4l32B7vseIDks+M2NdbXMJxhOI5sfYAa9cRRS/wjrqm\n",
       "+WNVPurMJAARTPhRH5Qzn3qY9jE/ZQMI4xWDGt6W55LBMuGqPtHh/tbK+6BqncJZp5dKfBvY5Ije\n",
       "axDCMJJjJv96CCAtCJucwepTX5BsGZhVJqp3krkNTbK4frGkG/IVglvML1asrSUtHvCVEomobFCg\n",
       "czwQMHXGdZfkdzl98ZNbphthPLAgp2kbxGTAlRLvzmcytKYWWgTmyorSh2Ujc7qwjnIaMYm8X45B\n",
       "H2yd5WP4LsjaOI1XesZ7OiJPBcugJR7Dz8Uij960KQFjXtp9pfGEbFuDDCbF8N8CO4oF3f825x85\n",
       "BKtF48UqqTjlWQjPazXylHWFP2LhbmTBWMsVL4xh+pVnru80GflJE/MphkCDaChAhDI5Nd0m63aK\n",
       "lQxupcVjX35VlI8XWjySZehImw/BeP1HLeEq78rSeR6Pt3xcyKdcH+UERf7gXWWnKxujLU4Voef+\n",
       "ICbtXXUq1jInrMrl/5ua6sc1sB5TftG75UP7/khyBtsn5s09nluypRP8Zt8lNijcoVJRlchtVZoa\n",
       "nFTIYEYUYWlYpNVHHOB1FhdPgmTdf/JRpSOxNB2ejgmLRkdhHnRStk7oVRJ9QUWG+85nx8u6FnXt\n",
       "pSQC3kXp2Nl4uRLTYoHw/IuKlmpacUqhOgdsctJSB1Ddi+0JIPYlX08rco42808tbWQj9Wdc0L8V\n",
       "8YC2jLnRips7jq+m56SEwSfgWtRtWT2eewfm3ApnrPGo2ZtfCNtDwsEA/UPRRwt0skXDq0AGwbMr\n",
       "KTax/GTgRuVi0tY6WDLiwuzBqd4TsysghRHUF3gpBgd4KzAtbMkZQdoVqbuxvnGzI6q0o+acP/dw\n",
       "rYMBhC2nJOe5U7tFeXxID9LNs+ebd193MY1A8FJ/lozX7lmF/WDplXkgk7bAFhUrxb2pEhlq/9L6\n",
       "Pv+V6ZLkkQnNHJNlpTZblrG5fP3SP7FcDf/UITmy8HdYdaPnZy03ICrNajrbJrZCMQHWVaBODYCC\n",
       "agsd7EuhCDT+KT8eMoh/K3KZzEcvyb2QZ6RfPmjN8KCNvuLvYDWYBtSAJ8Vt4rFJ+b3Gn0qRDOwf\n",
       "xQ+4g6sENBFlkWGYgSr8QeIMLxVaxKrbh4hVK0cYJZuZkOWnlJf+m7Jm+OT9L7ltJ3GhJLcAmRM7\n",
       "AM4pd5FpC/x3q8bdr9oIWObrcIAOK+jzYktO1h36CiximX0zRRbwWxCOqdyfJT9iJwrlZzvsk4vn\n",
       "5oUpcAsqDs4pJ8wOEyV7/rOihaSqzw5F0lOz7Cp9lJ/rhv1c3cTctT7Z2NkooC9p817r5HHYi73x\n",
       "9QbxGxWitS26iK0R7II/75fmgIzZnarz4gzvKH7HfWW5iOuibEqxTd9gEprLF4Yf+570yG0y0LTI\n",
       "M9o4E1ogKvDTZJgU2td3v1PYRIK1X0lROdaSXvDCJEZZ5yEer2YYSLyaz9TjHEJvsMlE4WdBJyIV\n",
       "WUpUjRYA6bagDPmjkWMqUZZs0VeVFBjE6wuNoHwKO00A5ygFVpoc3MnWrdvJuS4BHq1p0G8qwEJ2\n",
       "Jdv37Ez6JwrMV/Ya8pNeTDO8G32DV7gjKOHX+JBy95t4vQTuDtyH7vajxfgv7V6layT7pRGw6Vae\n",
       "QS3rYbtLFb5TDPd0I3k4bjEbnCD9rexcRyXdY35jrI/uzYzuUGDMeT8nXQZ0xMMBth2ev7OlDqHK\n",
       "oagwoIklLUrDxN86oDLFKTnexdkgOvAxil5ReSfsl66Hcoj5cnHY5ICjopMKx5cAesd5yxJSkTIW\n",
       "rUk1Sc+KBFaeQ2QKCwM+qLlFHJCnvlMePV2e9ehVMm/MOy7j5WaPVTd5OvtFsQALgE1n0/6xh5le\n",
       "xqgoerSSZ3cOWXBGz8Wyv/AyYtcxo6eSiVKA7bvCqV+ZrOdEiei3mjGUatmLJuwUwdheEr38ivN2\n",
       "k5oMifRn41usOaACkTaLsRNK1bcdFrCMP//9SJ/hYfkT0v4SXyPjwBmxL7IzYDAuxBCS98mhQ2rs\n",
       "sSX9h9SauNGa2AAAV0EAAADTQZokbEEv/rUqgAAoXE/+nNZjFUAH6EoaSoQakALSvM/GSTdZGMme\n",
       "rzBhIi6I3tuZjHrX4zDRaOxHEbgQ8Vqt+/2lPu9ApNRZw2vbUaZEoMFXC+NRdouC1l7XGnyQGrDz\n",
       "4mefu7RdIfqqKwyuPXGqxdnYGhC3JXuEtXBO19GU7p/VWWSEFayJ7tzKX5vjmjnGOJ3epuJVBDiT\n",
       "CEv+D5nbcooKLdvFbjBonbD6xQFGSaGm181lW8KKCDFxJJeRnxNGIt1VABLCtdm9NpOd6seM8NCp\n",
       "uAAAAJNBnkJ4gh8AADI5T6XKXOCkpN6QljbXzZ3+PAANFtslaCvhOgXK76LA6Q0O1U4x3pygRlXR\n",
       "/2I6h4csq29lRuUp7kql58zbkIhe3E/zoPjH85sJXufnMxQmgs53NRBInihE3hbh9gPyWwZsXVBG\n",
       "E14ivJImd4BgDLJXuwjXKsbTZr2RXdq6yT/A8KfqaY9zod216HkAAACIAZ5hdEP/AAA7VfHHmB9s\n",
       "pDKT3mXp1NZkBrzgA5y6SqFzm1HSdFh3q7LGVQU2utCYSFHF+rNSmt/8ePxFw2k7U7o2weagTeLg\n",
       "HJ7D/j4UqqI4DcKHmI3vsjkdssJRFuwiSUOur+xd0ftzHGTWiCXiL2NnrAUCEjywyG/SiHgLTec4\n",
       "TilP7/eLnwAAAH0BnmNqQ/8AAG58c1Egh6wOWOU82dUhKAA7NDt0LzmYNa3QyLLG5dM+JWmqMjkI\n",
       "OZ6i9GXQOpLF+EBHNUygg+b+JdAO7MBW/3+n8X8YDBClbSE+YExFfdsCA0w0q6a4NoIEVa18w7K2\n",
       "S+31ayjtuURzHATSekthOAAE4KYzOQAAADlBmmVJqEFomUwIJ//+tSqAAG85pJTIOAA3k/opxFEV\n",
       "76pvD6ldNWybgNx1ZYbXH2UqBvYAAAMAP8EAAABBQZqGSeEKUmUwIJ///rUqgAE5rb7X097SBjK/\n",
       "BSPWugY5SuK7uK8fUxrMByQ5B/zuRZxuowCHEBfoN47rAF9GWYEAAAAkQZqpSeEOiZTAgn/+tSqA\n",
       "ATnJwsXZ1Df2K4wxaTW4YAAAAwEbAAAAHkGex0URPBD/AAGHxwvRP8W9n13erRlwkhAAAAMBtQAA\n",
       "ABgBnuhqQ/8AA1/yYdDwAQpNjZZdYAAABiwAAACDQZrtSahBaJlMCCf//rUqgAE5+1Deg9WRebZY\n",
       "z7vav9gKvlABH44ghVMaOxhvwa+8NKZr+VUu0R2eoDgjSfkj8DhglUfxOw5cXSjfjvWvEIl1nPSF\n",
       "HbgLqJ9quxXPgZUf+mD7xrd/DJoUQuMcnQFi82wzzywC0Z2n/X23CS9mo6gAAm8AAACLQZ8LRREs\n",
       "EP8AAYeh9EYbShyuKkIHcH6Iq+5ZbABS3jb4PJDCros/fqx9p4GLkY+1ZEOZLbmIcpuErm/BuvL5\n",
       "+gdD6FOv6He0O9EACRYN0dh2qeg0bsSCxE+mU1ZH5oHbmLJqI8kYJydVPsmh/+dhEM2RPtODPydB\n",
       "ey3n3iyT2je8swzFeezJqAAFlAAAAB4Bnyp0Q/8AA190mPsQfERA59snNcdC/xHYcAAAFXAAAACM\n",
       "AZ8sakP/AABr/HgEnrNiW60XNtfNnf5VAA7NESvt9cJ0C5XewyaERf4y/FmdOliHT+zuxHUPDlkh\n",
       "YMqNyh57W84NA5mNrFtth0BOq0oCHfRBoXHjYdj0pxFSXE78nWxnhbh7xkR8AUEXVBGE14lsgVRi\n",
       "7b4ufe2N2EPXfV4vqZV5sbhJQMpi2PgAAosAAACPQZsxSahBbJlMCCf//rUqgAAAO/8pR3sB2wXs\n",
       "m5hgc8YqRqNoOUwASVyiDBrGdjDfg194Z33Z6jYA+rhE3um0Hn0ZaIA0CvzXTD7nqVIfE7wxx38F\n",
       "/EEPn43VPafR8Ofd89nsvULn2clqO2mXqR9ppPAfqSuhxw+ymHe3WgqJ72ICWHGlCG0nIRyj0ThM\n",
       "F7EAAACNQZ9PRRUsEP8AADN6p0KSnAsO1S/6VMK9xXld/YXbY7ABD9tkngpBilxLPZdcHRz9xrJ9\n",
       "aGKVALcB5aqtzkPqRrJT60oCCsoSTiHvqTE4VQpXii1x1TKIdp222K7woV/MQgodMoowlgetZsyv\n",
       "ZdMoX4YdIlprYjyO8iqAXJDhQq9U/iJZ2ArnBqM/mEDBAAAAjwGfbnRD/wAAa+6TQIHq+0nNVHF/\n",
       "0RZ3sNgABdmEr7fXCdAuV3sMmhEXvi/qA9W/0SFSlM0iWq7HGhXAGdJ0ng2OZcXP45pk2Se4pMKN\n",
       "2CnN4eKHtsSJvuqnbjLWNg0/apFml+tS89zNCa8D83sV5zNxkv9g87Cc2JibTRJENhrnPTTbgKBg\n",
       "2TRDt0OFwAnYAAAAkQGfcGpD/wAAa/x3kwd+dm6+r9mMVruprno00GHW8dgAuzCV9vrhOgXK72GT\n",
       "QiL3xf1Aerf6JCpSmaRLVdjjQrgDOk6TwbHMuLn5JdBfwk024zIhbaMdN0xGf1NqObs0MiBZK2uR\n",
       "1cvseVw22jnDYtM8bAuE4CIhwVeKoth3R2tQqIcOv1xcBU5utdTHSBqg44AAAACuQZt0SahBbJlM\n",
       "CCf//rUqgAAAAwABgKhKeYFUURC8Ysz+yKCCg9YARAbeYay7deCTqU3zYhGoKT413oXLepRZyZAe\n",
       "f0HEC0NSdxiWv1vBCy/OdPxbzRQr//gpDnAIU6FVdvEiJMesjhmO3cx/OCapOsvrdeZUarKSIMyz\n",
       "35b+rQh5iSQKoy2Q+nTJ74Cuo5xhFzCvFyMCLpETVslrBk4+fbC3GFf75nPIXqLHunN9AAAAj0Gf\n",
       "kkUVLBD/AAAzeqdCkpwJHWYEZJWXIj7iz/w+vW2AC6ryv3pIST3VdsKH6GD+O9T101Dr0ic4zIoT\n",
       "AXFkTqxzCma/qEfL3/8eQ3QYzgUHnicINFb/ytXDn+LUzTBTDewzTKUDjCGKvUaLeCzIestN2Yxx\n",
       "pMTq8EUheMxoK1Agr20KRXKy6ExheVtbNZ1gAAAAJQGfs2pD/wAAa/x3kwAfXrYOUXsivoEPLgtp\n",
       "QSTCnHQvVSJYaCAAAAA7QZu4SahBbJlMCCX//rUqgAAAAwAAEZ5q/hyoeBMKTkfwsE8fn65JLbJz\n",
       "oj28f9A/5w6GsHIu4pg2/n0AAAAqQZ/WRRUsEP8AADN6p0KSnAkdZgRklZdQu1SvCbytoCYBUdfK\n",
       "QidxvyXgAAAAHgGf9XRD/wAAa+6TPgAsnrwaHARYwDLAPF9KklVa9QAAACIBn/dqQ/8AAGv8d5MA\n",
       "H162DRzcEEajJ7xcjECcVDE/xxfhAAAAkkGb/EmoQWyZTAh///6plgAAAwACzcLfiBBGAPn47dC9\n",
       "Ydu3xcpOXrNXmfJ1s+KkmxW3yNnk1Z8ov2Mog3qwwDVndHMcAISlX9b7I9xVrHeqWxzBKZIDLd/c\n",
       "3dDQTZerYD+kzA7YK1zim6uApmAbAKJWr5LXa0sTebXuSFbuwUim4OxxCPQSmO1LXhnFbAWhAeNA\n",
       "AAAAmUGeGkUVLBD/AAAzeqdCkpwJHWYExIPw6hz0O9qAuTZFrYGmgw63zEAClvZK0FfCdAuV30WB\n",
       "0hoLyYOX3J/8gkCQC/S1bW9JKA5S1Okq5mvyj2Y50D1dfA3vKgiHzo6bpiNA3s6roNbByY4m/pkm\n",
       "bd69McxmQq2jzt5O6IaAw8onUVtsRiem4y/MDQgCHAra+I3h5I5WDwEpJQAAADABnjl0Q/8AAGvu\n",
       "kz4ALJ68HMWtud2QrpK232K/r2BcJiXa76Uv4hONCfBMDJuJ+64AAACMAZ47akP/AABr/HeTArqN\n",
       "XrCPQ7G+FN7z0aZgTvvOADiR+iF5zMGtboZFljSlwbdwnPqKEcHGL3vvkyooT9EiS09ZK0iT9Y/e\n",
       "GNTc0z3hkWAM90DB8RsMZ9J3ZZ1tufZ08HGBinYveCbX806GOOdUIo8u2PlRJD3us9cvm+sCtphV\n",
       "zZmGMGaQDkwasWEAAAR1bW9vdgAAAGxtdmhkAAAAAAAAAAAAAAAAAAAD6AAAFqgAAQAAAQAAAAAA\n",
       "AAAAAAAAAAEAAAAAAAAAAAAAAAAAAAABAAAAAAAAAAAAAAAAAABAAAAAAAAAAAAAAAAAAAAAAAAA\n",
       "AAAAAAAAAAAAAAAAAgAAA6B0cmFrAAAAXHRraGQAAAADAAAAAAAAAAAAAAABAAAAAAAAFqgAAAAA\n",
       "AAAAAAAAAAAAAAAAAAEAAAAAAAAAAAAAAAAAAAABAAAAAAAAAAAAAAAAAABAAAAAAoAAAAHgAAAA\n",
       "AAAkZWR0cwAAABxlbHN0AAAAAAAAAAEAABaoAAAQAAABAAAAAAMYbWRpYQAAACBtZGhkAAAAAAAA\n",
       "AAAAAAAAAAAoAAAA6ABVxAAAAAAALWhkbHIAAAAAAAAAAHZpZGUAAAAAAAAAAAAAAABWaWRlb0hh\n",
       "bmRsZXIAAAACw21pbmYAAAAUdm1oZAAAAAEAAAAAAAAAAAAAACRkaW5mAAAAHGRyZWYAAAAAAAAA\n",
       "AQAAAAx1cmwgAAAAAQAAAoNzdGJsAAAAt3N0c2QAAAAAAAAAAQAAAKdhdmMxAAAAAAAAAAEAAAAA\n",
       "AAAAAAAAAAAAAAAAAoAB4ABIAAAASAAAAAAAAAABAAAAAAAAAAAAAAAAAAAAAAAAAAAAAAAAAAAA\n",
       "AAAAAAAAGP//AAAANWF2Y0MBZAAW/+EAGGdkABas2UCgPaEAAAMAAQAAAwAKDxYtlgEABmjr48si\n",
       "wP34+AAAAAAcdXVpZGtoQPJfJE/FujmlG88DI/MAAAAAAAAAGHN0dHMAAAAAAAAAAQAAAB0AAAgA\n",
       "AAAAFHN0c3MAAAAAAAAAAQAAAAEAAADgY3R0cwAAAAAAAAAaAAAAAQAAEAAAAAABAAAoAAAAAAEA\n",
       "ABAAAAAAAQAAAAAAAAABAAAIAAAAAAIAABAAAAAAAQAAIAAAAAACAAAIAAAAAAEAACgAAAAAAQAA\n",
       "EAAAAAABAAAAAAAAAAEAAAgAAAAAAQAAKAAAAAABAAAQAAAAAAEAAAAAAAAAAQAACAAAAAABAAAg\n",
       "AAAAAAIAAAgAAAAAAQAAKAAAAAABAAAQAAAAAAEAAAAAAAAAAQAACAAAAAABAAAoAAAAAAEAABAA\n",
       "AAAAAQAAAAAAAAABAAAIAAAAABxzdHNjAAAAAAAAAAEAAAABAAAAHQAAAAEAAACIc3RzegAAAAAA\n",
       "AAAAAAAAHQAAFT4AAADXAAAAlwAAAIwAAACBAAAAPQAAAEUAAAAoAAAAIgAAABwAAACHAAAAjwAA\n",
       "ACIAAACQAAAAkwAAAJEAAACTAAAAlQAAALIAAACTAAAAKQAAAD8AAAAuAAAAIgAAACYAAACWAAAA\n",
       "nQAAADQAAACQAAAAFHN0Y28AAAAAAAAAAQAAADAAAABhdWR0YQAAAFltZXRhAAAAAAAAACFoZGxy\n",
       "AAAAAAAAAABtZGlyYXBwbAAAAAAAAAAAAAAAACxpbHN0AAAAJKl0b28AAAAcZGF0YQAAAAEAAAAA\n",
       "TGF2ZjYxLjcuMTAw\n",
       "\">\n",
       "  Your browser does not support the video tag.\n",
       "</video>"
      ],
      "text/plain": [
       "<IPython.core.display.HTML object>"
      ]
     },
     "execution_count": 78,
     "metadata": {},
     "output_type": "execute_result"
    }
   ],
   "source": [
    "# Creating animation\n",
    "animation = camera.animate()\n",
    "# Displaying animation\n",
    "HTML(animation.to_html5_video())"
   ]
  },
  {
   "cell_type": "markdown",
   "id": "0d40c4ae-2b79-4d0c-9b21-cf4a04e132bd",
   "metadata": {},
   "source": [
    "Oh no! Our animation is choppy :(<br>\n",
    "The default framerate is pretty slow (~5 frames a second), but luckily we have control over this. ```animate``` passes optional arguments to the ```ArtistAnimation```, so we just need to tell Celluloid what interval we want (the interval is the time between frames in milliseconds, or 1/framerate):"
   ]
  },
  {
   "cell_type": "code",
   "execution_count": 79,
   "id": "53626afb-ae3e-44b5-b5af-f41963bae2a0",
   "metadata": {},
   "outputs": [
    {
     "data": {
      "text/html": [
       "<video width=\"640\" height=\"480\" controls autoplay loop>\n",
       "  <source type=\"video/mp4\" src=\"data:video/mp4;base64,AAAAIGZ0eXBNNFYgAAACAE00ViBpc29taXNvMmF2YzEAAAAIZnJlZQAAGwRtZGF0AAACrwYF//+r\n",
       "3EXpvebZSLeWLNgg2SPu73gyNjQgLSBjb3JlIDE2NCByMzA5NSBiYWVlNDAwIC0gSC4yNjQvTVBF\n",
       "Ry00IEFWQyBjb2RlYyAtIENvcHlsZWZ0IDIwMDMtMjAyMiAtIGh0dHA6Ly93d3cudmlkZW9sYW4u\n",
       "b3JnL3gyNjQuaHRtbCAtIG9wdGlvbnM6IGNhYmFjPTEgcmVmPTMgZGVibG9jaz0xOjA6MCBhbmFs\n",
       "eXNlPTB4MzoweDExMyBtZT1oZXggc3VibWU9NyBwc3k9MSBwc3lfcmQ9MS4wMDowLjAwIG1peGVk\n",
       "X3JlZj0xIG1lX3JhbmdlPTE2IGNocm9tYV9tZT0xIHRyZWxsaXM9MSA4eDhkY3Q9MSBjcW09MCBk\n",
       "ZWFkem9uZT0yMSwxMSBmYXN0X3Bza2lwPTEgY2hyb21hX3FwX29mZnNldD0tMiB0aHJlYWRzPTEy\n",
       "IGxvb2thaGVhZF90aHJlYWRzPTIgc2xpY2VkX3RocmVhZHM9MCBucj0wIGRlY2ltYXRlPTEgaW50\n",
       "ZXJsYWNlZD0wIGJsdXJheV9jb21wYXQ9MCBjb25zdHJhaW5lZF9pbnRyYT0wIGJmcmFtZXM9MyBi\n",
       "X3B5cmFtaWQ9MiBiX2FkYXB0PTEgYl9iaWFzPTAgZGlyZWN0PTEgd2VpZ2h0Yj0xIG9wZW5fZ29w\n",
       "PTAgd2VpZ2h0cD0yIGtleWludD0yNTAga2V5aW50X21pbj0yNSBzY2VuZWN1dD00MCBpbnRyYV9y\n",
       "ZWZyZXNoPTAgcmNfbG9va2FoZWFkPTQwIHJjPWNyZiBtYnRyZWU9MSBjcmY9MjMuMCBxY29tcD0w\n",
       "LjYwIHFwbWluPTAgcXBtYXg9NjkgcXBzdGVwPTQgaXBfcmF0aW89MS40MCBhcT0xOjEuMDAAgAAA\n",
       "DuBliIQAN//+9vD+BTY7mNCXEc3onTMfvxW4ujQ3vc4AAAMAAAMAAAMBuaWF/3Z384ggAAADAHbA\n",
       "Fl7fwQkf5k1vrSICh4s6Jm30oWeT5ig8h52N4tmVBSgGqjMrNepje6Cm5KDyNJWWbI1dYWKyW8vb\n",
       "AxyLk5/r14vCDxxpnre8ZEvSe3rBwmsJFvGuZ1KFg0g0PzBzFn2mzefjS2Kjp7Hjtp5/mW4s/2ps\n",
       "1b2StgtF1DOlQ2kSmIQ5K3s5aR9sMTLhyyYj9zEqKMScQKgOlnl4gF9kTy+RufB01sJ01kpUAfod\n",
       "5dbLBhFa7tkH7mmAWjiggiHq5eSoMxc8sej6J2pfDDC/adfD3axFRa8ntPSC8V9ANFCncAn9EUlr\n",
       "FaIyyW0kbtuxxm1lCus/HGSKFuugC5ZbfB0O2eAXCmw1yuoccX7XmLCYo6vniTcC8n8YHq15NhYb\n",
       "uit+ANxpPZqLaqVnYwLJNnRdPva7mMbqJNYAlb64XjNFA078dvqfyMU716cTCKcogRzxDBRf1Ofq\n",
       "ffAt+QN2Y4cw3425W3cbo0KyMekPjNMXzc7ubGWyxdqpAM7DPCEjkHROnqqcbq9PoXBcNuPRQq/L\n",
       "qiEQq/BrnpQGgyET6V9m2JoSt2B4unEjY2mRDfRghJHjVQB30Mnftms5WQ7tmk78e5wP2W07zDEA\n",
       "vgC0Kw5gbAL876h3Dg05AwMocvQwVuOfzDVjD8OE1QPRQxwg7kjLh9dqZ/yGWjOsFCCZ67NS4M33\n",
       "MhYKrYnkpy+HRdcF4puAAAADADGhDFpiCHpQAAA08/uJRp/Nnt6c12hoZBCKlKN7V3BF86/klqcB\n",
       "V8n2KM9C6mH1H1RO9jq5nAPvLVknuCvY3oTDewDF7Z+7bdb1WRbwDNd/rZ91VzBzUxCmlZQ39Qw4\n",
       "Wmrlgr1cvFv8FJXPDJ5c337bgxUeIl9gckUFgHcNkWoWHdkiB5QwojOPPyQoKsv7DuVt5p8OVylo\n",
       "TpqspZAJvrQwsqkvaTxudLbAAAANShgDXhWOi2mGenViWL3ld4DPYRyq4d3UIkjrDmGa7kH5WbfY\n",
       "0ZZcAdWqVNEV8UFPp40+gWRMP7g0zqRQUOeYt/6z/0sCqoy+ivvErH+daDgDnYvJsY7dEpapmj6e\n",
       "UWAcwUhABNCEV8dseW4a/AlZvfAIqynCJFeXbn0oItlbCbuMD9beSeWE/q+5ihHtb0qWeTU6MpHJ\n",
       "cuHLLedrA5ixLOAG4EnlyEelY/ZokueVDx+sSzra6yf6f1rr3T5bgjGN7Vd9IalPgSdILLjevpUL\n",
       "F1HqTxffvpKqW5Vg344CmtwahrMFV/0FT0+558sUvw/qV1+n373DB5n/drcK9K/Z8c/JwwY8Ch2u\n",
       "zJELii06kO1A5sJpIYN2x0aPFe/Hh3bM6eyhzhZC0lNtBzlNAKueFZIeHqkzoqqTojI7AAAEcPB9\n",
       "Z2h3gan+zrkK8NVrZoO0jq9Yu8MBd9sklJl456nHd6mSlaTadH/+mLrIWW0oUSmoj9TQUXuZzHqw\n",
       "Lh/CuBzQmURRIWGuMuKNHVINkj4DGOuJrvUcfQ9XQ7BxT/68QTa8Ya9gH2c1oRF+kqfb10rIN0Sn\n",
       "tH2xELXbnH1/5qH8nTqlWu5/zRW9IuS5fCe5JzZgFJmx8ReNHHmTHwSJulyHpEj545NQNb+SSoGg\n",
       "WZkKuSVyB+oReFl95ww+rH1hyFdaUM5zLAzl31keo1V1hjAoGF3I1UZAHkuuaIiMSCEddf4GBVr5\n",
       "LahPujQcimlL6G35GAu+CJr0eFEkJ4uYto8f8uiJsOJRniWUr7+FWJXVOkB72G2t53MPb2S+G438\n",
       "WVkAfOEPcLBVHEMTdoVPWyQt7AU8odt6ENicGN8+o7IfE+8fuotA2WPvKlacOTioDEacDOSCqQEd\n",
       "1MvaTACoWMM3oA9IfaLYl4Jtkn9IaWBPa6/eyb4uAmNrCDGocx4IRRAYe2pvu7T6B4J8nAtcFN22\n",
       "F7PvApJhg+Idw6oGWn4qnEGI/+IP7+mNKX1egr+PgvSNXo6wg7oDih/X08jOapTyOEVLtQpm2Euw\n",
       "2aIYHLnAppD5DxnWeIn1MsjqJfbpwCy0JLg5xU7K4g23erymW8r2VzPRDuVXsYnt6++wBu9glOH0\n",
       "H/71nbPt6oQ/u6FY4zyAF/rYOhbwcSwvo91+CIdXKAcm4krM+P3CTQFdofz6Any608R9q418N86P\n",
       "F11X6b02mfR27wTfqBtB6ApgxQJWbLtK3/0Sc/J05r/XC8GD+FLpJH8i5sGUNJIv5AEvRPF/253Q\n",
       "hsOnA2/xjo3H3FpfjDfoUDLS7ZgHWOEwaM9FafM80xRyP496ut2ek90L4y+JCZW/2teeuwKmkh33\n",
       "NPz3HO3TZh/3cA+ocvrTBpaQtUTk/jmwHCmzMIqKQRqP1u3huyEWRaM5+QYgfANtEH0x9ouiDQ65\n",
       "m4bekq+lS3OIm2D7YknxY6FCZnnreJBc5gOqCLAfISYYGfa/CeGCeThhaRcjiUfaYu/u5hH45H/m\n",
       "LDjIbYkM8OcJVJNwiZZAn1OXarli/8KvY9knfKywQSMol/bknfdnXHzbSwwMOAqht0Fw1XDHN3T5\n",
       "fF35yml+svqeGQJaEkGbGA+lrIoXGiCiae+DOvdJqoPw2qs1vQwDg/Hkc02nWX3oBX7QAACNb/S+\n",
       "c6GApMdSLGlVhinquDjBSK5eE8pPm/519/pElOHeDlg8oZd3MZLpdHBgj0paVJvbPP1zbJmI1zez\n",
       "K3deMrAJaSufvhLeeSAyBYKkMxnXp4hz6QQs2XtwAlX90uq+dd9fCbTCriVIN7LiXdPQPkeswc2a\n",
       "wdGPWFZQAb7dVxYNcY4F5SvYMkwUfZ7izgj8p10guBwDGH0XZrRl0lhq3fs4Nl7zddRt/UvISGzX\n",
       "607HGhJ5P+zxPc0whXPT/slSWmpwwvrCYrWhQYYWuNT9X2yLhqGgGw87Z9kN+oAAm2B5PC1+C369\n",
       "1ftLxiU8MX+Tt9t54kQrxgUMWlV7rV32mAug6QAHtaA8+GikioRzIOfGYXGYpMm/pRreFu+7MS5S\n",
       "thIC89cU1wqMqYTg5RHQVUlW7/25CPWTUAX+F6rz7qFPg/uACsTsJnRR3wAA1TKwFlge5+Lia9y6\n",
       "N40nEzH5Ip3/80RsypNd11vcI8MGt3cMU8bkTkq0MEbHoL5kpJMMq5GK3RWN+3DwwiGU2pdFshmR\n",
       "36w84h8l1qPgRCFZaePJQutBAU08/jjpo0knE34tyxrAAsRbuJP9WO+q8gvTdObBUCbVotsUF9Qw\n",
       "sJcCLd9p1e2izbVmaId5q9HVQYc31tNPUWo2Xl+mmn8+bW1iFlX4HtvpWrH0HuJhjmMh1+cvhAAA\n",
       "HFWU/SfLdNcC7uboj+D5LyzyNWXIOlbbO3wyHqJprbM1dgBP+zbWTsjBknViaeQGRWfMjBwczwMe\n",
       "sI71mc9nxWDcf54oMAFiOMznsCDf3x0dVByA6z8hTdTKGlIc7BNCCR9Wsc8gnlg/zI8bjvcPImMQ\n",
       "JrFCzdI5mt6F9Mjyx+jV+xrbXxel57VxRy4YCgwZMh+RXzRT4Dl10AFMpey7p/n/yOEs17MCyKry\n",
       "NMiYuG0CHvZ7DlxhhRskgGTfBw8pVL2tTe/YVb7rXrrgLmkPKfIYElV7Rr5KEq+GC/xaW0QaX0vU\n",
       "hRoil7kUkRLViYYecIo+TADwTyG4zdpQ57zX8NaXsLdubCkpn3lTHht3gXBZTdjUw++wm8Aprntz\n",
       "CPDHiilBHalx2WDU5A4YZlAf38Gm2Ok3NEQhiLB99wmnOqoMH1op3cCXpdQETdlY6nEMkZm1MBJJ\n",
       "GiOgQZ45EFu1wJPOBdXm/NTR41o+/g28pMk7vkUKsiPne98z8r7BoDyPTSpikhS5YpIpYzKL/eOD\n",
       "a/iSVwW4n2/f0VVi0yFa/wkh4WzEaCZCXgxGzNcbxz3nBkH+jsuvh07L/i8Iy05gNKuLyAng3BbX\n",
       "7C9sBmoGGYddQ7IV7baoeSw3cz6VwRSB3Dpr9sP83DEQZZnd3tN8ZMJx45U8bbZdAOhObmXJjRa+\n",
       "u9mdenGDDfpFp6CHhriH2K1IhkZuHoHJ8+e94cdEcmwMAm5gfe648d/q/rf5doWrQx+vhcQYCiC+\n",
       "wJxGrAooh6NeSMNQs8vTpA1iz1/2GvFHVlcHi4tsRqID+DMAYPUvBSoZI/BqehlxNvvSFwuQmiL8\n",
       "lN8nM0JFgrTJp2rpcoSXz9cYsrVdnUiXb0dtOKntVaXZgdA6PWv1f2o4U8MQSQHZL+LPjdG+4S/N\n",
       "rd/tHJSPdJg7ngvnF9I6IJqkBbmeWxmxUHmFrAuW7UjTjUMcA1VrPqtlHPSehhiG8NOpPkrvyfTI\n",
       "6CBAThOVm1Hd9rPzsW8K/TMUqb4ela7AUdX2M3rJJxw88aIhX/5vC/qI23kBBgAuSkobLbIoVuzW\n",
       "la3TRs088YtmXjb1uz37Yt7y85RcpXY+sMs9GaWxJBGk9zBfqVE2RjcPGcULt/hIrR/8rETH0Pxj\n",
       "ja8C/zAjQofUiy1rKxaTyQRXg2RgSsRxL4j5TMvErvth7WK7k8RCiQZAhjXMp7ThOx3vCAjaIxMH\n",
       "xNTnR2mguCImKodIFEiHLizDFeMKqlXGf/9GuQZXKL6uPLh8CsgRg6KDPvPN+Fz6cnV7GW2DIHfG\n",
       "uiIKazzIX/fmFmCNsrW7F2VCUWODRUz6NzYYrKsW+HoBEHYGzYU2+V1Tj7DwE7CzT/D/gACQzBCm\n",
       "vRT/abiVmnoxb9ivZAEWc+p756OUZSp/tTtCOQP3/F3i2oWmx8/trsq6zRyxGVSDqC8sEBOJO0np\n",
       "KOkDgZ+K9gkuv9yyzbr9/iq3fOvT17f8h6KVqoFXHAVBEgvoqdCobAR1Ta9RLErABQQx8RkYtqIk\n",
       "VBDyDYroFvNaCnRhhbWXHvoCHvG8jdLbuBdgCDgIL3hjfxz06P7b2XWbeno/UiDcnUfEK/jUw49h\n",
       "qR1uS/L2KPvLifVdDlBfNK1BYkSOxpI+F3u/TpnDk1k41Noe55uWP+AL4uyFov3rIsNfbyMdtKKU\n",
       "eBMi9x5Uq2kTa0D/7Fqt8glObcD7LLN6S1p6uT3QKczSBGviwdR9URJ4e76AAAKnAAAAqkGaJGxD\n",
       "P/6eEABpd70VvfwJjV9VTIa1uM3NNW7sryd5h9C+sYJOrdtqmWF7AH3un2aNAB+LVMUps+TFzbGO\n",
       "M/s4Jy9VK//+FCRZPwJ9dHHOSHi2nDxxKK5fRwz9gRR5aKfUbRXJBsd6sODxSgRZMBZumx4DsicW\n",
       "J+87SqXbS4n5TPDX0vvanvuGhHrwOsfjZ6AVa+ygHnZqMOTn5Jxr/+hmQpBKDDwQACygAAAAeEGe\n",
       "QniFfwAWJonI+nRXrjwAAAMAAczlqmWEd42K5s8I1cP479QV0T4X8zAAy2evRhs+mk+noQCy3Uw1\n",
       "bNLMoEoYatlnWNgYCSzk1PxkdngSGUNp2S0v4GEPZNSqPNTOgYlbg23ggwpLWVvpUNYBBXw61Zpg\n",
       "U6kZ8QAAAHUBnmF0Qn8AHE19A+PZ1AlZoAAAAwAC/JtUywTEHPUS8kWM6uaIufOXwAADtDkzASea\n",
       "xD6WavPowklf311+td/vwRw/v9JZdf855VNftoWE7d+tIjkcAifbiYHuXKAvFVIRyY+pFIuUJBqn\n",
       "3YEsq74VAJAxDCgAAABeAZ5jakJ/AAKPbrS5TtEmm7NGFJS/VsAHOHJCizBqPn/AviuSiEr2Mubw\n",
       "Iw9r9g2JETSl2gp9ylz5p5YqDjfCqYSF6XrRhg5BuK+h9FnL3XRJ299uroUNTGChznhrQQAAADZB\n",
       "mmVJqEFomUwIZ//+nhAAGlkMy99oANbxseXHjvFSiZKMDcI7J2HlCIRb9Nv1iAUg1mtAKmEAAAAk\n",
       "QZqGSeEKUmUwIb/+p4QAEtQA6+LuZLFs5opMO5/8AAADAFJBAAAAQkGaqUnhDomUwIb//qeEABLP\n",
       "UFlgZ2zTerkAIUd4HvFErGYum0bpM3JpGG8GKF25hmHHFyaqvfe0/TTK6OcAKsk74QAAACtBnsdF\n",
       "ETwr/wAPM+3DddeA6R3aNeyOSvkghhbM9zOzB3nyAvovTC43UencAAAAHQGe6GpCfwAT7MYWQR/L\n",
       "hHXcfrvTVfaoN3HXgAZ8AAAAZEGa7UmoQWiZTAhv//6nhAAS76XCaOtPvTlfWJY44nB2gddXy+AB\n",
       "4ZAjnH35R9upHni6rO9HoCJc0jMmv8gPe+G+O9cZL/GRS1bU05eNtwUISDTo0yD4ddjRgQJrnHGG\n",
       "4QAAOOEAAABnQZ8LRREsK/8ADzAbDdIcAdHCmUmN9GVxYxdAAGbt9J1yBX/MJrU3lf2WSLzOi+wY\n",
       "E9r/MtpVpG8kGnOeA7NDgTQYKD3/QrbtFFjzg2l2q+H7TXPli0Msm/RW7Qmc970ktTHAAoXPLwAA\n",
       "ACUBnyp0Qn8AE+RkoCH+S436dZB5mn7ITjOtiHd1/t2WhIA00kkYAAAAZgGfLGpCfwACfXABuCpZ\n",
       "aPY6R4RQV0T4Xx2AB2RV/YffiNC0iDgDsncs6aYLZMasnsBeG1hh9B6ku8CUSzCH9C6uggeaV28I\n",
       "WQn6Ll+mcyQmEAp+UZGu3g/fgVnYXIuaogEgDTQSPwAAAGpBmzFJqEFsmUwIb//+p4QAAAMDo+yn\n",
       "4LiE93RSMH9yzaZWPXogACTx8c4+/KPZBnA8q7rn8beQfZHpvqjjpoMhll4XQYP874tUqH1GP5nJ\n",
       "p3cmb/GSE320ToFS9KGcoCUKrIk83yN42AoJAAAAbUGfT0UVLCv/AAH8r4ySDkj1XbJs1RKnpBAs\n",
       "S4ieHf2ACIPKe5wsEzyMDO/65eu47kUad47pPuDhsNSL2BM12w8m6ovWYVoaGe+nQqZgwoZSFTAo\n",
       "ovetSBBnOPImp9RF40hVUu9akYvQADiVDakAAABlAZ9udEJ/AAJ8jF/X62hIaIjmWw3RlcWMTEAC\n",
       "62bd4+fTQtIg0w7BOA+FV6sYVQXoA6JZB+3Q8CjtfssUTXpjbVDyJl1kj/Ny9/+mAItLe0Sg4a9v\n",
       "rPGP3ITbChrr9ykOiA68AXEAAABgAZ9wakJ/AAJ9b913TntFVTcsJ1oNPmHDZoA9hWAC62bd4+fT\n",
       "QtIg0w7BOA+FV6sYVQXoA6JZBkzleGYUy/GdTzQojrA4r8Too0ftNjhUcb7y9wZhHg4AD6pCRoHN\n",
       "nMW0AAAAfEGbdEmoQWyZTAhv//6nhAAAAwAAF0BQjKMubXF8YY6E/4ir1lHAAISo1VQZTWZe0TfG\n",
       "Y4kHl8NKU0flBgYjo4nfXb5CBOntQhjpiXUNcRCjJRkkrvxb2zKfzi0ZLTIx5WleLurwvlcl7VgE\n",
       "H7jOVDaFs7baG2xvOKemPmkAAABwQZ+SRRUsK/8AAfyvjJIOSPVbh0hTSO3NGGsQ9zfOuCZ3JoAD\n",
       "+eVQa4CQcGRn0Joo3dXhDH5xrLlFjlWZzAK0pN/gtfzqCHmeBSF414e1mPAH5FkCtodEbMT22kI7\n",
       "SAMM/egLpBsWa2ID1oCQkOitgAAAACsBn7NqQn8AAn1v3XdOez3FsK1zxWi8Uzgrma5kBDEIBmLn\n",
       "vZqWa//zAAx4AAAAMEGbuEmoQWyZTAhn//6eEAAAAwAABBuPPg9xLgJf1v5XomXi5SXVaCRiXXOq\n",
       "litSZwAAADRBn9ZFFSwr/wAB/K+Mkg5I9VuHSFNI7c0YaxJh750xA5N0EGIzYgAwt0C2F4vJrWsr\n",
       "hAIeAAAAHwGf9XRCfwACfIxfT4I2enCDknL0PSjRVt8eYqdx0CEAAAAoAZ/3akJ/AAJ9b913Tns9\n",
       "xbCtc8VnnEJCdP8JJa7ChQvuKA3xI5rKgQAAAGdBm/xJqEFsmUwIT//98QAAAwAAzalPgP0n4LTd\n",
       "+6xfO5KtuX8gP9rcZoL9oAyogKNWyUIyzLuskPjQ1E207MuiyzCdtODaYJrEcRAuRwbC8i4a3YK7\n",
       "wtHvAw8r1UcJxF3MWH4/6q+AAAAAb0GeGkUVLCv/AAH8r4ySDkj1W4dIU0j5gZr7jZOJRB0QZOKt\n",
       "TofHsRlapQAM3dejDZ9NJ9PQTOnFdjucAngfV9u5QpFNpmblIEN/+7NLRA+XxvEdPcZjT8euxg9n\n",
       "fDa/lnaCsgWMgKnzj42qoPW+JwAAACsBnjl0Qn8AAnyMX0+CNnpwg5Jy8+/olidxvPw/Z21MsAOn\n",
       "4Nu5myLtIANGAAAAZwGeO2pCfwACfW/dd057PcYlnwKpNgOFYbpuYJ//0CAB1naFFmDUePgFF3a6\n",
       "qk1vUlIQ60IImVsUlnZPXxQ4KS4S8N5MlGOJWdky21Qo/jLucu1MFUTwfpqhiLh/PkcKU1ujp9Kh\n",
       "DqsAAAR1bW9vdgAAAGxtdmhkAAAAAAAAAAAAAAAAAAAD6AAAA8cAAQAAAQAAAAAAAAAAAAAAAAEA\n",
       "AAAAAAAAAAAAAAAAAAABAAAAAAAAAAAAAAAAAABAAAAAAAAAAAAAAAAAAAAAAAAAAAAAAAAAAAAA\n",
       "AAAAAgAAA6B0cmFrAAAAXHRraGQAAAADAAAAAAAAAAAAAAABAAAAAAAAA8cAAAAAAAAAAAAAAAAA\n",
       "AAAAAAEAAAAAAAAAAAAAAAAAAAABAAAAAAAAAAAAAAAAAABAAAAAAoAAAAHgAAAAAAAkZWR0cwAA\n",
       "ABxlbHN0AAAAAAAAAAEAAAPHAAAEAAABAAAAAAMYbWRpYQAAACBtZGhkAAAAAAAAAAAAAAAAAAA8\n",
       "AAAAOgBVxAAAAAAALWhkbHIAAAAAAAAAAHZpZGUAAAAAAAAAAAAAAABWaWRlb0hhbmRsZXIAAAAC\n",
       "w21pbmYAAAAUdm1oZAAAAAEAAAAAAAAAAAAAACRkaW5mAAAAHGRyZWYAAAAAAAAAAQAAAAx1cmwg\n",
       "AAAAAQAAAoNzdGJsAAAAt3N0c2QAAAAAAAAAAQAAAKdhdmMxAAAAAAAAAAEAAAAAAAAAAAAAAAAA\n",
       "AAAAAoAB4ABIAAAASAAAAAAAAAABAAAAAAAAAAAAAAAAAAAAAAAAAAAAAAAAAAAAAAAAAAAAGP//\n",
       "AAAANWF2Y0MBZAAe/+EAGGdkAB6s2UCgPaEAAAMAAQAAAwA8DxYtlgEABmjr48siwP34+AAAAAAc\n",
       "dXVpZGtoQPJfJE/FujmlG88DI/MAAAAAAAAAGHN0dHMAAAAAAAAAAQAAAB0AAAIAAAAAFHN0c3MA\n",
       "AAAAAAAAAQAAAAEAAADgY3R0cwAAAAAAAAAaAAAAAQAABAAAAAABAAAKAAAAAAEAAAQAAAAAAQAA\n",
       "AAAAAAABAAACAAAAAAIAAAQAAAAAAQAACAAAAAACAAACAAAAAAEAAAoAAAAAAQAABAAAAAABAAAA\n",
       "AAAAAAEAAAIAAAAAAQAACgAAAAABAAAEAAAAAAEAAAAAAAAAAQAAAgAAAAABAAAIAAAAAAIAAAIA\n",
       "AAAAAQAACgAAAAABAAAEAAAAAAEAAAAAAAAAAQAAAgAAAAABAAAKAAAAAAEAAAQAAAAAAQAAAAAA\n",
       "AAABAAACAAAAABxzdHNjAAAAAAAAAAEAAAABAAAAHQAAAAEAAACIc3RzegAAAAAAAAAAAAAAHQAA\n",
       "EZcAAACuAAAAfAAAAHkAAABiAAAAOgAAACgAAABGAAAALwAAACEAAABoAAAAawAAACkAAABqAAAA\n",
       "bgAAAHEAAABpAAAAZAAAAIAAAAB0AAAALwAAADQAAAA4AAAAIwAAACwAAABrAAAAcwAAAC8AAABr\n",
       "AAAAFHN0Y28AAAAAAAAAAQAAADAAAABhdWR0YQAAAFltZXRhAAAAAAAAACFoZGxyAAAAAAAAAABt\n",
       "ZGlyYXBwbAAAAAAAAAAAAAAAACxpbHN0AAAAJKl0b28AAAAcZGF0YQAAAAEAAAAATGF2ZjYxLjcu\n",
       "MTAw\n",
       "\">\n",
       "  Your browser does not support the video tag.\n",
       "</video>"
      ],
      "text/plain": [
       "<IPython.core.display.HTML object>"
      ]
     },
     "execution_count": 79,
     "metadata": {},
     "output_type": "execute_result"
    }
   ],
   "source": [
    "animation = camera.animate(interval=(1/30*1000))\n",
    "HTML(animation.to_html5_video())"
   ]
  },
  {
   "cell_type": "markdown",
   "id": "3aa65a59-456d-4562-a3c4-51a42fafc846",
   "metadata": {},
   "source": [
    "**Something to note**: Celluloid has the same limitations as ```ArtistAnimation```. For example, ```ArtistAnimation``` does not play nicely with plot titles. If you try to update the title during the animation, it will just pick a value and stay that value for the whole animation. To get a title that updates every frame, you need to use the ```text``` method of your ```Axis```."
   ]
  },
  {
   "cell_type": "code",
   "execution_count": null,
   "id": "daf396e5-9841-4aa3-bd52-a4eac550a79b",
   "metadata": {},
   "outputs": [],
   "source": []
  }
 ],
 "metadata": {
  "kernelspec": {
   "display_name": "Python 3 (ipykernel)",
   "language": "python",
   "name": "python3"
  },
  "language_info": {
   "codemirror_mode": {
    "name": "ipython",
    "version": 3
   },
   "file_extension": ".py",
   "mimetype": "text/x-python",
   "name": "python",
   "nbconvert_exporter": "python",
   "pygments_lexer": "ipython3",
   "version": "3.13.0"
  }
 },
 "nbformat": 4,
 "nbformat_minor": 5
}
