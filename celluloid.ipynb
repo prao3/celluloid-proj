{
 "cells": [
  {
   "cell_type": "code",
   "execution_count": null,
   "id": "71761f1f-8daf-45a9-acbc-0e73ee1c9d3b",
   "metadata": {},
   "outputs": [],
   "source": []
  }
 ],
 "metadata": {
  "kernelspec": {
   "display_name": "",
   "name": ""
  },
  "language_info": {
   "name": ""
  }
 },
 "nbformat": 4,
 "nbformat_minor": 5
}
